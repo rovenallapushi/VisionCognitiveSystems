{
  "cells": [
    {
      "cell_type": "markdown",
      "metadata": {
        "id": "PTjDAZXR0q6d"
      },
      "source": [
        "## Reading and combining data from json files stored in drive"
      ]
    },
    {
      "cell_type": "code",
      "execution_count": null,
      "metadata": {
        "id": "UxREf6ze0p3p"
      },
      "outputs": [],
      "source": [
        "import os\n",
        "import numpy as np\n",
        "import json\n",
        "import pickle\n",
        "\n",
        "def load_and_save_combined_data(load_dir, save_dir, force_reprocess=False):\n",
        "    combined_data_path = os.path.join(save_dir, 'combined_data.pkl')\n",
        "\n",
        "    if os.path.exists(combined_data_path) and not force_reprocess:\n",
        "        print(\"Loading pre-processed combined data...\")\n",
        "        with open(combined_data_path, 'rb') as f:\n",
        "            return pickle.load(f)\n",
        "\n",
        "    print(\"Processing and combining data...\")\n",
        "    train_data = {'depths': [], 'paths': {'paths': [], 'rgb_paths': []}}\n",
        "    test_data = {'depths': [], 'paths': {'paths': [], 'rgb_paths': []}}\n",
        "    folders = ['0001', '0003', '0005', '0006', '0008']\n",
        "\n",
        "    # Load all data\n",
        "    for folder in folders:\n",
        "        folder_path = os.path.join(load_dir, 'train', folder)\n",
        "        if os.path.isdir(folder_path):\n",
        "            depths = np.load(os.path.join(folder_path, 'depths.npy'))\n",
        "            with open(os.path.join(folder_path, 'paths.json'), 'r') as f:\n",
        "                paths = json.load(f)\n",
        "\n",
        "            if folder == '0006':\n",
        "                test_data['depths'].append(depths)\n",
        "                test_data['paths']['paths'].extend(paths['depth_paths'])\n",
        "                test_data['paths']['rgb_paths'].extend(paths['rgb_paths'])\n",
        "            else:\n",
        "                train_data['depths'].append(depths)\n",
        "                train_data['paths']['paths'].extend(paths['depth_paths'])\n",
        "                train_data['paths']['rgb_paths'].extend(paths['rgb_paths'])\n",
        "\n",
        "    # Concatenate data\n",
        "    train_data['depths'] = np.concatenate(train_data['depths'])\n",
        "    test_data['depths'] = np.concatenate(test_data['depths'])\n",
        "\n",
        "    combined_data = (train_data, test_data)\n",
        "\n",
        "    # Save combined data\n",
        "    os.makedirs(save_dir, exist_ok=True)\n",
        "    with open(combined_data_path, 'wb') as f:\n",
        "        pickle.dump(combined_data, f)\n",
        "\n",
        "    total_samples = len(train_data['depths']) + len(test_data['depths'])\n",
        "    print(f\"Combined data saved to {combined_data_path}\")\n",
        "    print(f\"Train set size: {len(train_data['depths'])} ({len(train_data['depths'])/total_samples:.2%})\")\n",
        "    print(f\"Validation set size: {len(test_data['depths'])} ({len(test_data['depths'])/total_samples:.2%})\")\n",
        "\n",
        "    return combined_data"
      ]
    },
    {
      "cell_type": "code",
      "execution_count": null,
      "metadata": {
        "id": "QPs-cl8BrWeq"
      },
      "outputs": [],
      "source": [
        "import os\n",
        "import numpy as np\n",
        "import json\n",
        "import pickle\n",
        "def load_and_save_combined_data(load_dir, save_dir, force_reprocess=False):\n",
        "    combined_data_path = os.path.join(save_dir, 'combined_data.pkl')\n",
        "\n",
        "    if os.path.exists(combined_data_path) and not force_reprocess:\n",
        "        print(\"Loading pre-processed combined data...\")\n",
        "        with open(combined_data_path, 'rb') as f:\n",
        "            return pickle.load(f)\n",
        "\n",
        "    print(\"Processing and combining data...\")\n",
        "    train_data = {'depths': [], 'paths': {'paths': [], 'rgb_paths': []}}\n",
        "    test_data = {'depths': [], 'paths': {'paths': [], 'rgb_paths': []}}\n",
        "    train_folders = ['0001', '0003', '0005', '0008']\n",
        "    test_folders = ['0006']\n",
        "\n",
        "    # Load train data\n",
        "    for folder in train_folders:\n",
        "        folder_path = os.path.join(load_dir, 'train', folder)\n",
        "        if os.path.isdir(folder_path):\n",
        "            depths = np.load(os.path.join(folder_path, 'depths.npy'))\n",
        "            with open(os.path.join(folder_path, 'paths.json'), 'r') as f:\n",
        "                paths = json.load(f)\n",
        "\n",
        "            train_data['depths'].append(depths)\n",
        "            train_data['paths']['paths'].extend(paths['depth_paths'])\n",
        "            train_data['paths']['rgb_paths'].extend(paths['rgb_paths'])\n",
        "\n",
        "    # Load test data\n",
        "    for folder in test_folders:\n",
        "        folder_path = os.path.join(load_dir, 'test', folder)\n",
        "        if os.path.isdir(folder_path):\n",
        "            depths = np.load(os.path.join(folder_path, 'depths.npy'))\n",
        "            with open(os.path.join(folder_path, 'paths.json'), 'r') as f:\n",
        "                paths = json.load(f)\n",
        "\n",
        "            test_data['depths'].append(depths)\n",
        "            test_data['paths']['paths'].extend(paths['depth_paths'])\n",
        "            test_data['paths']['rgb_paths'].extend(paths['rgb_paths'])\n",
        "\n",
        "    # Concatenate data\n",
        "    train_data['depths'] = np.concatenate(train_data['depths'])\n",
        "    test_data['depths'] = np.concatenate(test_data['depths'])\n",
        "\n",
        "    combined_data = (train_data, test_data)\n",
        "\n",
        "    # Save combined data\n",
        "    os.makedirs(save_dir, exist_ok=True)\n",
        "    with open(combined_data_path, 'wb') as f:\n",
        "        pickle.dump(combined_data, f)\n",
        "\n",
        "    total_samples = len(train_data['depths']) + len(test_data['depths'])\n",
        "    print(f\"Combined data saved to {combined_data_path}\")\n",
        "    print(f\"Train set size: {len(train_data['depths'])} ({len(train_data['depths'])/total_samples:.2%})\")\n",
        "    print(f\"Test set size: {len(test_data['depths'])} ({len(test_data['depths'])/total_samples:.2%})\")\n",
        "\n",
        "    return combined_data"
      ]
    },
    {
      "cell_type": "code",
      "execution_count": null,
      "metadata": {
        "colab": {
          "base_uri": "https://localhost:8080/"
        },
        "id": "LCMgCZuVjYmg",
        "outputId": "d33be830-a605-47be-8e21-681afa3bbc33"
      },
      "outputs": [
        {
          "name": "stdout",
          "output_type": "stream",
          "text": [
            "Processing and combining data...\n",
            "Combined data saved to /content/drive/MyDrive/Dataset/combined_data.pkl\n",
            "Train set size: 9460 (79.03%)\n",
            "Test set size: 2510 (20.97%)\n"
          ]
        }
      ],
      "source": [
        "# Usage\n",
        "load_dir = '/content/drive/MyDrive/Dataset'\n",
        "save_dir = '/content/drive/MyDrive/Dataset'\n",
        "train_data, test_data = load_and_save_combined_data(load_dir, save_dir)"
      ]
    },
    {
      "cell_type": "markdown",
      "metadata": {
        "id": "wdYpL4wycGlD"
      },
      "source": [
        "## ResNet Transfer Model\n",
        "\n",
        "\n",
        "\n",
        "> First Experiment\n",
        "\n",
        "\n",
        "\n"
      ]
    },
    {
      "cell_type": "code",
      "execution_count": null,
      "metadata": {
        "colab": {
          "base_uri": "https://localhost:8080/"
        },
        "id": "rK2hpvbtnSbn",
        "outputId": "76bc1fa8-92cd-4c7b-f46d-18291e775500"
      },
      "outputs": [
        {
          "output_type": "stream",
          "name": "stdout",
          "text": [
            "Mounted at /content/drive\n"
          ]
        }
      ],
      "source": [
        "import shutil\n",
        "import os\n",
        "from google.colab import drive\n",
        "drive.mount('/content/drive')"
      ]
    },
    {
      "cell_type": "code",
      "execution_count": null,
      "metadata": {
        "id": "lnxrjNChnOGH"
      },
      "outputs": [],
      "source": [
        "rgb_root_folder = '/content/drive/MyDrive/RGB'\n",
        "depth_root_folder = '/content/drive/MyDrive/Depth'\n",
        "save_dir = '/content/drive/MyDrive/Dataset'"
      ]
    },
    {
      "cell_type": "code",
      "execution_count": null,
      "metadata": {
        "id": "26rNkt7-ncSr"
      },
      "outputs": [],
      "source": [
        "import pickle\n",
        "import numpy as np\n",
        "\n",
        "def load_combined_data(file_path):\n",
        "    with open(file_path, 'rb') as f:\n",
        "        return pickle.load(f)"
      ]
    },
    {
      "cell_type": "code",
      "execution_count": null,
      "metadata": {
        "id": "zeDEmbPFnioW"
      },
      "outputs": [],
      "source": [
        "# Load the combined data: it takes 5 sec - 1.5GB\n",
        "file_path = \"/content/drive/MyDrive/Dataset/combined_data.pkl\"\n",
        "train_data_subset_resnet, test_data_subset_resnet = load_combined_data(file_path)"
      ]
    },
    {
      "cell_type": "code",
      "execution_count": null,
      "metadata": {
        "id": "yK-ZLu6tZ0oO"
      },
      "outputs": [],
      "source": [
        "# Load the combined data: it takes 5 sec - 1.5GB\n",
        "file_path = \"/content/drive/MyDrive/Dataset/combined_data_subset.pkl\"\n",
        "train_data_subset_resnet, val_data_subset_resnet, test_data_subset_resnet = load_combined_data(file_path)"
      ]
    },
    {
      "cell_type": "code",
      "execution_count": null,
      "metadata": {
        "id": "1hQq06AMKR5b"
      },
      "outputs": [],
      "source": [
        "depths = train_data_subset_resnet['depths']"
      ]
    },
    {
      "cell_type": "code",
      "execution_count": null,
      "metadata": {
        "colab": {
          "base_uri": "https://localhost:8080/",
          "height": 581
        },
        "id": "SZLzMqXQKIhR",
        "outputId": "d3e9b309-852e-4230-dbd0-acaa716f3641"
      },
      "outputs": [
        {
          "output_type": "display_data",
          "data": {
            "text/plain": [
              "<Figure size 1000x600 with 1 Axes>"
            ],
            "image/png": "[encoded data removed]"
          },
          "metadata": {}
        },
        {
          "output_type": "stream",
          "name": "stdout",
          "text": [
            "Validation depth min: 0.0, max: 13.204679489135742\n"
          ]
        }
      ],
      "source": [
        "import matplotlib.pyplot as plt\n",
        "import numpy as np\n",
        "\n",
        "\n",
        "depths = train_data_subset_resnet['depths']\n",
        "\n",
        "\n",
        "depths_flat = depths.flatten()\n",
        "\n",
        "# Create the histogram\n",
        "plt.figure(figsize=(10, 6))\n",
        "plt.hist(depths_flat, bins=50, edgecolor='black')\n",
        "\n",
        "# Add labels and title\n",
        "plt.xlabel('Depth')\n",
        "plt.ylabel('Frequency')\n",
        "plt.title('Distribution of Depth Values')\n",
        "\n",
        "# Add text box with min and max values\n",
        "min_depth = depths_flat.min()\n",
        "max_depth = depths_flat.max()\n",
        "plt.text(0.05, 0.95, f'Min: {min_depth:.2f}\\nMax: {max_depth:.2f}',\n",
        "         transform=plt.gca().transAxes, verticalalignment='top',\n",
        "         bbox=dict(boxstyle='round', facecolor='white', alpha=0.8))\n",
        "\n",
        "# Show the plot\n",
        "plt.show()\n",
        "\n",
        "# Print min and max values\n",
        "print(f\"Validation depth min: {min_depth}, max: {max_depth}\")"
      ]
    },
    {
      "cell_type": "code",
      "execution_count": null,
      "metadata": {
        "id": "H5rcJY7EnsCV"
      },
      "outputs": [],
      "source": [
        "from itertools import permutations\n",
        "import torchvision.transforms as T"
      ]
    },
    {
      "cell_type": "code",
      "execution_count": null,
      "metadata": {
        "id": "Ziq6sfm-nuUT"
      },
      "outputs": [],
      "source": [
        "import torch\n",
        "from torch.utils.data import Dataset\n",
        "import cv2\n",
        "import numpy as np\n",
        "import random\n",
        "from itertools import permutations\n",
        "\n",
        "class DepthDataset(Dataset):\n",
        "    def __init__(self, loaded_data, height=480, width=640, augment=True, channel_swap_prob=0.5, max_depth=13.20):\n",
        "        self.depths = loaded_data['depths']\n",
        "        self.rgb_paths = loaded_data['paths']['rgb_paths']\n",
        "        self.depth_paths = loaded_data['paths']['paths']\n",
        "        self.height = height\n",
        "        self.width = width\n",
        "        self.augment = augment\n",
        "        self.channel_swap_prob = channel_swap_prob\n",
        "        self.channel_permutations = list(permutations(range(3), 3))\n",
        "        self.max_depth = max_depth\n",
        "        self.mean = np.array([0.429, 0.488, 0.496])\n",
        "        self.std = np.array([0.215, 0.219, 0.274])\n",
        "\n",
        "    def __len__(self):\n",
        "        return len(self.rgb_paths)\n",
        "\n",
        "    def __getitem__(self, idx):\n",
        "        rgb_path = self.rgb_paths[idx]\n",
        "        depth = self.depths[idx]\n",
        "\n",
        "        # Decide whether to flip (for augmentation)\n",
        "        flip = random.choice([True, False]) if self.augment else False\n",
        "\n",
        "        # Preprocess RGB image\n",
        "        image = self.preprocess_image(rgb_path, flip)\n",
        "\n",
        "        # Apply channel swap if augmentation is enabled\n",
        "        if self.augment and random.random() < self.channel_swap_prob:\n",
        "            image = self.channel_swap(image)\n",
        "\n",
        "        # Preprocess depth map\n",
        "        depth = self.preprocess_depth(depth, flip)\n",
        "\n",
        "        mask = self.create_depth_mask(depth)\n",
        "\n",
        "        # Convert to PyTorch tensors\n",
        "        image = torch.from_numpy(image.transpose((2, 0, 1))).float()\n",
        "        image = T.Normalize([0.429, 0.488, 0.496],[0.215, 0.219, 0.274])(image)\n",
        "        depth = torch.from_numpy(depth.transpose((2, 0, 1))).float()\n",
        "        mask = torch.from_numpy(mask.transpose((2, 0, 1))).float()\n",
        "\n",
        "\n",
        "        return image, depth, mask\n",
        "\n",
        "    def preprocess_image(self, img_path, flip):\n",
        "        # Read and resize the image\n",
        "        img = cv2.imread(img_path)\n",
        "        img = cv2.cvtColor(img, cv2.COLOR_BGR2RGB)  # Convert BGR to RGB\n",
        "        resized_img = cv2.resize(img, (self.width, self.height)).astype(np.float32)\n",
        "        resized_img =  resized_img  / 255.0\n",
        "\n",
        "        # Normalize image to have the same normalization as the pre trained model\n",
        "\n",
        "        # Flip the image horizontally if required\n",
        "        if flip:\n",
        "            resized_img = cv2.flip(resized_img, 1)\n",
        "\n",
        "\n",
        "\n",
        "        return resized_img\n",
        "\n",
        "    def preprocess_depth(self, depth, flip):\n",
        "        # Resize the depth map\n",
        "        resized_depth = cv2.resize(depth, (640, 480)).astype(np.float32)\n",
        "\n",
        "        resized_depth = resized_depth\n",
        "\n",
        "        # Flip the depth map horizontally if required\n",
        "        if flip:\n",
        "            resized_depth = cv2.flip(resized_depth, 1)\n",
        "\n",
        "        # Add color channel\n",
        "        resized_depth = np.expand_dims(resized_depth, axis=-1)\n",
        "\n",
        "        return resized_depth\n",
        "\n",
        "    def channel_swap(self, image):\n",
        "        # Randomly select a channel permutation\n",
        "        permutation = random.choice(self.channel_permutations)\n",
        "        # Apply the permutation\n",
        "        return image[..., permutation]\n",
        "\n",
        "    def create_depth_mask(self, depth):\n",
        "        # Create mask: True for depth values > 0 and < 10\n",
        "        mask = (depth > 0) & (depth < 13.20)\n",
        "        return mask.astype(np.float32)"
      ]
    },
    {
      "cell_type": "code",
      "execution_count": null,
      "metadata": {
        "id": "uKXd9OiloSSO"
      },
      "outputs": [],
      "source": [
        "train_dataset_subset = DepthDataset(train_data_subset_resnet, augment=True, channel_swap_prob=0.25, max_depth=13.20)\n",
        "test_dataset_subset = DepthDataset(val_data_subset_resnet, augment=False, max_depth=13.20)\n",
        "\n",
        "train_loader_subset = torch.utils.data.DataLoader(train_dataset_subset, batch_size=8, shuffle=True)\n",
        "test_loader_subset = torch.utils.data.DataLoader(test_dataset_subset, batch_size=16, shuffle=False)"
      ]
    },
    {
      "cell_type": "code",
      "execution_count": null,
      "metadata": {
        "id": "PgEfJgShgYxe"
      },
      "outputs": [],
      "source": [
        "def eval_depth(pred, target):\n",
        "    assert pred.shape == target.shape\n",
        "\n",
        "    thresh = torch.max((target / pred), (pred / target))\n",
        "\n",
        "    d1 = torch.sum(thresh < 1.25).float() / len(thresh)\n",
        "\n",
        "    diff = pred - target\n",
        "    diff_log = torch.log(pred) - torch.log(target)\n",
        "\n",
        "    abs_rel = torch.mean(torch.abs(diff) / target)\n",
        "\n",
        "    rmse = torch.sqrt(torch.mean(torch.pow(diff, 2)))\n",
        "    mae = torch.mean(torch.abs(diff))\n",
        "\n",
        "    return {'d1': d1.detach(), 'abs_rel': abs_rel.detach(),'rmse': rmse.detach(), 'mae': mae.detach()}\n",
        "\n"
      ]
    },
    {
      "cell_type": "code",
      "execution_count": null,
      "metadata": {
        "id": "STxFz1EMafjT"
      },
      "outputs": [],
      "source": [
        "import numpy as np\n",
        "import os\n",
        "import scipy.io as sio\n",
        "\n",
        "def save_depth_data(image, true_depth, pred_depth, mask, save_path, epoch):\n",
        "    os.makedirs(os.path.dirname(save_path), exist_ok=True)\n",
        "    image = image.cpu().numpy()\n",
        "    true_depth = true_depth.cpu().numpy()\n",
        "    pred_depth = pred_depth.cpu().numpy()\n",
        "    mask = mask.cpu().numpy()\n",
        "\n",
        "    # Apply mask to depth maps\n",
        "    true_depth = np.ma.masked_where(mask == 0, true_depth).filled(np.nan)\n",
        "    pred_depth = np.ma.masked_where(mask == 0, pred_depth).filled(np.nan)\n",
        "\n",
        "    # Create a dictionary to store the data\n",
        "    data = {\n",
        "        'epoch': epoch,\n",
        "        'image': image,\n",
        "        'true_depth': true_depth,\n",
        "        'pred_depth': pred_depth,\n",
        "        'mask': mask\n",
        "    }\n",
        "\n",
        "    # Save the data to a .mat file\n",
        "    sio.savemat(save_path, data)"
      ]
    },
    {
      "cell_type": "code",
      "execution_count": null,
      "metadata": {
        "id": "Oi1Pdde2VLSp"
      },
      "outputs": [],
      "source": [
        "import torch\n",
        "import torch.nn as nn\n",
        "import torch.optim as optim\n",
        "from torch.utils.data import DataLoader\n",
        "\n",
        "def train(model, train_loader, optimizer, criterion, device):\n",
        "    model.train()\n",
        "    total_loss = 0\n",
        "    num_batches = len(train_loader)\n",
        "\n",
        "    for batch_idx, (data, target, mask) in enumerate(train_loader):\n",
        "\n",
        "        data, target, mask = data.to(device), target.to(device), mask.to(device).bool()\n",
        "\n",
        "        optimizer.zero_grad()\n",
        "        output = model(data)\n",
        "        #output = torch.unsqueeze(output, 1)\n",
        "\n",
        "        valid_mask = (output <= 13.20) & (output >= 0.001)\n",
        "\n",
        "        output = output[mask]\n",
        "\n",
        "        target = target[mask]\n",
        "\n",
        "        l_depth = criterion(output, target)\n",
        "        # l_ssim = torch.clamp((1 - ssim_loss(output, target, window_size=11)) * 0.5, 0, 1)\n",
        "        loss =  l_depth # (1.0 * l_ssim) + (0.1 * l_depth)\n",
        "\n",
        "        loss.backward()\n",
        "        optimizer.step()\n",
        "\n",
        "        total_loss += loss.item()\n",
        "\n",
        "        # if (batch_idx + 1) % 100 == 0:\n",
        "            # print(f'Batch {batch_idx + 1}/{num_batches}, Loss: {loss.item():.4f}')\n",
        "\n",
        "\n",
        "\n",
        "    avg_loss = total_loss / len(train_loader)\n",
        "    return avg_loss"
      ]
    },
    {
      "cell_type": "code",
      "execution_count": null,
      "metadata": {
        "id": "h9eaQX-GZeqY"
      },
      "outputs": [],
      "source": [
        "def validate(model, val_loader, criterion, device,epoch,save_path, num_visualizations=5):\n",
        "    model.eval()  # Set the model to evaluation mode\n",
        "    total_loss = 0\n",
        "    results = { 'd1': 0, 'abs_rel': 0,'rmse': 0, 'mae': 0  }\n",
        "    num_batches = len(val_loader)\n",
        "\n",
        "    vis_batch_indices = random.sample(range(num_batches), num_visualizations)\n",
        "\n",
        "    for batch_idx, (data, target, mask) in enumerate(val_loader):\n",
        "\n",
        "        data, target, mask = data.to(device), target.to(device), mask.to(device).bool()\n",
        "\n",
        "\n",
        "        with torch.no_grad():\n",
        "\n",
        "          output = model(data)\n",
        "          #output = torch.unsqueeze(output, 1)\n",
        "\n",
        "        # valid_mask = (target <= 13.20) & (target >= 0.001)\n",
        "\n",
        "        cur_results = eval_depth(output[mask], target[mask])\n",
        "\n",
        "        save_depth_data(data, output, target, mask, '/content/drive/MyDrive/Results/depth_data_epoch_{}.mat'.format(epoch), epoch)\n",
        "\n",
        "        for k in results.keys():\n",
        "\n",
        "          if isinstance(cur_results[k], torch.Tensor):\n",
        "\n",
        "            if cur_results[k].numel() == 1:\n",
        "\n",
        "              results[k] += cur_results[k].item()\n",
        "\n",
        "            else:\n",
        "\n",
        "              results[k] += cur_results[k].cpu().numpy().mean()\n",
        "\n",
        "          elif isinstance(cur_results[k], np.ndarray):\n",
        "\n",
        "            results[k] += cur_results[k].mean()\n",
        "\n",
        "          else:\n",
        "\n",
        "           results[k] += float(cur_results[k])\n",
        "\n",
        "    for k in results.keys():\n",
        "\n",
        "      results[k] = round(results[k] / len(val_loader), 3)\n",
        "\n",
        "    return results"
      ]
    },
    {
      "cell_type": "code",
      "execution_count": null,
      "metadata": {
        "colab": {
          "base_uri": "https://localhost:8080/"
        },
        "id": "iZD42ERmCSYq",
        "outputId": "09fb9e7f-0457-411b-aad3-aa33138cca4e"
      },
      "outputs": [
        {
          "output_type": "stream",
          "name": "stderr",
          "text": [
            "/usr/local/lib/python3.10/dist-packages/torchvision/models/_utils.py:208: UserWarning: The parameter 'pretrained' is deprecated since 0.13 and may be removed in the future, please use 'weights' instead.\n",
            "  warnings.warn(\n",
            "/usr/local/lib/python3.10/dist-packages/torchvision/models/_utils.py:223: UserWarning: Arguments other than a weight enum or `None` for 'weights' are deprecated since 0.13 and may be removed in the future. The current behavior is equivalent to passing `weights=ResNet50_Weights.IMAGENET1K_V1`. You can also use `weights=ResNet50_Weights.DEFAULT` to get the most up-to-date weights.\n",
            "  warnings.warn(msg)\n",
            "Downloading: \"https://download.pytorch.org/models/resnet50-0676ba61.pth\" to /root/.cache/torch/hub/checkpoints/resnet50-0676ba61.pth\n",
            "100%|██████████| 97.8M/97.8M [00:00<00:00, 136MB/s]\n"
          ]
        },
        {
          "output_type": "stream",
          "name": "stdout",
          "text": [
            "Input shape: torch.Size([8, 3, 480, 640])\n",
            "Output shape: torch.Size([8, 1, 480, 640])\n"
          ]
        }
      ],
      "source": [
        "import torch\n",
        "import torch.nn as nn\n",
        "import torchvision.models as models\n",
        "\n",
        "class DepthEstimationResNet(nn.Module):\n",
        "    def __init__(self):\n",
        "        super(DepthEstimationResNet, self).__init__()\n",
        "\n",
        "        # Load a ResNet-50 model with pretrained weights\n",
        "        resnet = models.resnet50(pretrained=True)\n",
        "\n",
        "        # Extract the layers up to the last convolutional block (before the average pooling)\n",
        "        self.encoder = nn.Sequential(*list(resnet.children())[:-2])\n",
        "\n",
        "        # Decoder with precise upsampling to match input dimensions\n",
        "        self.decoder = nn.Sequential(\n",
        "            nn.Conv2d(2048, 1024, kernel_size=3, padding=1),\n",
        "            nn.BatchNorm2d(1024),\n",
        "            nn.ReLU(inplace=True),\n",
        "\n",
        "            nn.ConvTranspose2d(1024, 512, kernel_size=4, stride=2, padding=1),\n",
        "            nn.BatchNorm2d(512),\n",
        "            nn.ReLU(inplace=True),\n",
        "\n",
        "            nn.ConvTranspose2d(512, 256, kernel_size=4, stride=2, padding=1),\n",
        "            nn.BatchNorm2d(256),\n",
        "            nn.ReLU(inplace=True),\n",
        "\n",
        "            nn.ConvTranspose2d(256, 128, kernel_size=4, stride=2, padding=1),\n",
        "            nn.BatchNorm2d(128),\n",
        "            nn.ReLU(inplace=True),\n",
        "\n",
        "            nn.ConvTranspose2d(128, 64, kernel_size=4, stride=2, padding=1),\n",
        "            nn.BatchNorm2d(64),\n",
        "            nn.ReLU(inplace=True),\n",
        "\n",
        "            nn.ConvTranspose2d(64, 1, kernel_size=4, stride=2, padding=1)\n",
        "            # Output size will be 480x640 due to padding and stride\n",
        "        )\n",
        "\n",
        "    def forward(self, x):\n",
        "        x = self.encoder(x)  # Pass input through the encoder\n",
        "        x = self.decoder(x)  # Pass the output through the decoder\n",
        "        return x  # Output the depth map\n",
        "\n",
        "# Instantiate the model\n",
        "model = DepthEstimationResNet()\n",
        "\n",
        "# Create a toy input tensor with shape [8, 3, 480, 640]\n",
        "input_tensor = torch.randn(8, 3, 480, 640)\n",
        "\n",
        "# Pass the input through the model\n",
        "output_tensor = model(input_tensor)\n",
        "\n",
        "# Print the shape of the output\n",
        "print(f\"Input shape: {input_tensor.shape}\")\n",
        "print(f\"Output shape: {output_tensor.shape}\")"
      ]
    },
    {
      "cell_type": "code",
      "source": [
        "\n",
        "total_params = sum(p.numel() for p in model.parameters() if p.requires_grad)\n",
        "print(f\"Total trainable parameters: {total_params}\")"
      ],
      "metadata": {
        "colab": {
          "base_uri": "https://localhost:8080/"
        },
        "id": "wAwtQPseiyt4",
        "outputId": "18483c87-f708-4ea7-dd95-67cfebb73002"
      },
      "execution_count": null,
      "outputs": [
        {
          "output_type": "stream",
          "name": "stdout",
          "text": [
            "Total trainable parameters: 53530497\n"
          ]
        }
      ]
    },
    {
      "cell_type": "code",
      "execution_count": null,
      "metadata": {
        "id": "kdSCgN_XeWgi"
      },
      "outputs": [],
      "source": [
        "device = torch.device('cuda' if torch.cuda.is_available() else 'cpu')\n",
        "model = DepthEstimationResNet()\n",
        "model = model.to(device)"
      ]
    },
    {
      "cell_type": "markdown",
      "metadata": {
        "id": "pba1EUEhtqPv"
      },
      "source": [
        "## Trying the model on full dataset"
      ]
    },
    {
      "cell_type": "code",
      "execution_count": null,
      "metadata": {
        "id": "be_Q-nQmtxFa"
      },
      "outputs": [],
      "source": [
        "device = torch.device('cuda' if torch.cuda.is_available() else 'cpu')\n",
        "model = DepthEstimationResNet()\n",
        "model = model.to(device)"
      ]
    },
    {
      "cell_type": "code",
      "execution_count": null,
      "metadata": {
        "colab": {
          "base_uri": "https://localhost:8080/"
        },
        "id": "ySKsC6TBt0Yw",
        "outputId": "774dc6b2-146d-4f7a-96ff-20528b910792"
      },
      "outputs": [
        {
          "name": "stderr",
          "output_type": "stream",
          "text": [
            "/usr/local/lib/python3.10/dist-packages/torch/optim/lr_scheduler.py:28: UserWarning: The verbose parameter is deprecated. Please use get_last_lr() to access the learning rate.\n",
            "  warnings.warn(\"The verbose parameter is deprecated. Please use get_last_lr() \"\n"
          ]
        },
        {
          "name": "stdout",
          "output_type": "stream",
          "text": [
            "0.4063820420612446\n",
            "Epoch 1/10\n",
            "Train Loss: 0.4064, val_metrics: {'d1': 0.424, 'abs_rel': 0.358, 'rmse': 0.964, 'mae': 0.661} \n",
            "\n",
            "0.25513974841706144\n",
            "Epoch 2/10\n",
            "Train Loss: 0.2551, val_metrics: {'d1': 0.509, 'abs_rel': 0.336, 'rmse': 0.964, 'mae': 0.622} \n",
            "\n",
            "0.20212489355194901\n",
            "Epoch 3/10\n",
            "Train Loss: 0.2021, val_metrics: {'d1': 0.547, 'abs_rel': 0.324, 'rmse': 0.895, 'mae': 0.581} \n",
            "\n",
            "0.16321251916109458\n",
            "Epoch 4/10\n",
            "Train Loss: 0.1632, val_metrics: {'d1': 0.587, 'abs_rel': 0.31, 'rmse': 0.876, 'mae': 0.557} \n",
            "\n",
            "0.1376539824730445\n",
            "Epoch 5/10\n",
            "Train Loss: 0.1377, val_metrics: {'d1': 0.57, 'abs_rel': 0.326, 'rmse': 0.858, 'mae': 0.56} \n",
            "\n",
            "0.1250988389078027\n",
            "Epoch 6/10\n",
            "Train Loss: 0.1251, val_metrics: {'d1': 0.587, 'abs_rel': 0.315, 'rmse': 0.812, 'mae': 0.534} \n",
            "\n",
            "0.10462662077879664\n",
            "Epoch 7/10\n",
            "Train Loss: 0.1046, val_metrics: {'d1': 0.589, 'abs_rel': 0.26, 'rmse': 0.782, 'mae': 0.504} \n",
            "\n",
            "0.09864895867651434\n",
            "Epoch 8/10\n",
            "Train Loss: 0.0986, val_metrics: {'d1': 0.594, 'abs_rel': 0.268, 'rmse': 0.832, 'mae': 0.522} \n",
            "\n",
            "0.08886790034358821\n",
            "Epoch 9/10\n",
            "Train Loss: 0.0889, val_metrics: {'d1': 0.578, 'abs_rel': 0.279, 'rmse': 0.8, 'mae': 0.515} \n",
            "\n",
            "0.08172743768444629\n",
            "Epoch 10/10\n",
            "Train Loss: 0.0817, val_metrics: {'d1': 0.615, 'abs_rel': 0.259, 'rmse': 0.753, 'mae': 0.483} \n",
            "\n"
          ]
        }
      ],
      "source": [
        "optimizer = optim.Adam(model.parameters(), lr=0.001)\n",
        "scheduler = torch.optim.lr_scheduler.ReduceLROnPlateau(optimizer, mode='min', factor=0.5, patience=2, verbose=True)\n",
        "criterion = nn.SmoothL1Loss()\n",
        "num_epochs = 10\n",
        "save_path = '/content/drive/MyDrive/Results'\n",
        "for epoch in range(num_epochs):\n",
        "    train_loss = train(model, train_loader_subset, optimizer, criterion, device)\n",
        "    print(train_loss)\n",
        "    results = validate(model, test_loader_subset, criterion, device, epoch, save_path)\n",
        "\n",
        "    scheduler.step(train_loss)\n",
        "\n",
        "    print(f\"Epoch {epoch+1}/{num_epochs}\")\n",
        "    print(f\"Train Loss: {train_loss:.4f}, val_metrics: {results} \")\n",
        "    print()"
      ]
    },
    {
      "cell_type": "markdown",
      "source": [
        "## ResNet vs UNet"
      ],
      "metadata": {
        "id": "sEdFeMLXEZQt"
      }
    },
    {
      "cell_type": "code",
      "source": [
        "import matplotlib.pyplot as plt\n",
        "\n",
        "# Data for training loss\n",
        "resnet_smooth_l1_loss = [0.4064, 0.2551, 0.2021, 0.1632, 0.1377,0.1251, 0.1046, 0.0986, 0.0889, 0.0817]\n",
        "unet_smooth_l1_loss = [0.3583, 0.2212, 0.1726, 0.1437, 0.1256, 0.1147, 0.1009, 0.0925, 0.0855, 0.0774]\n",
        "\n",
        "\n",
        "# Epochs\n",
        "epochs = range(1, len(resnet_smooth_l1_loss) + 1)\n",
        "\n",
        "# Plotting the training loss\n",
        "plt.figure(figsize=(10, 6), dpi=300)  # Slightly larger figure for better readability\n",
        "\n",
        "plt.plot(epochs, resnet_smooth_l1_loss, 'o-', label='ResNet', markersize=5, linewidth=1.5)\n",
        "plt.plot(epochs, unet_smooth_l1_loss, '^-', label='UNet', markersize=5, linewidth=1.5)\n",
        "\n",
        "# Adjusting font sizes for better readability\n",
        "plt.xlabel('Epochs', fontsize=12)\n",
        "plt.ylabel('Training Loss', fontsize=12)\n",
        "plt.title('Training Loss Comparison: ResNet vs UNet', fontsize=14)\n",
        "plt.legend(fontsize=10)\n",
        "plt.grid(True, linestyle='--', linewidth=0.5)\n",
        "\n",
        "# Saving the figure as a high-resolution PNG, suitable for LaTeX\n",
        "plt.savefig('training_loss_comparison.png', bbox_inches='tight', pad_inches=0.05)\n",
        "\n",
        "# Displaying the plot\n",
        "plt.show()"
      ],
      "metadata": {
        "colab": {
          "base_uri": "https://localhost:8080/",
          "height": 901
        },
        "id": "lI9hsrlID59i",
        "outputId": "61af225e-fc0c-4f88-9fff-fc58992f49c8"
      },
      "execution_count": null,
      "outputs": [
        {
          "output_type": "display_data",
          "data": {
            "text/plain": [
              "<Figure size 3000x1800 with 1 Axes>"
            ],
            "image/png": "[encoded data removed]"
          },
          "metadata": {}
        }
      ]
    },
    {
      "cell_type": "markdown",
      "metadata": {
        "id": "iHjApX8vc-A_"
      },
      "source": [
        "## Results of Full Dataset"
      ]
    },
    {
      "cell_type": "code",
      "execution_count": null,
      "metadata": {
        "colab": {
          "background_save": true
        },
        "id": "EuATqqyOc9ql"
      },
      "outputs": [],
      "source": [
        "import os\n",
        "import numpy as np\n",
        "from scipy import io\n",
        "import matplotlib.pyplot as plt\n",
        "\n",
        "def normalize_image(img):\n",
        "    mean = np.array([0.429, 0.488, 0.496])[:, None, None]\n",
        "    std = np.array([0.215, 0.219, 0.274])[:, None, None]\n",
        "    return (img * 255 - mean) / std\n",
        "\n",
        "def process_depth(depth):\n",
        "    return np.nan_to_num(depth, nan=0.0)\n",
        "\n",
        "def denormalize_for_display(img):\n",
        "    mean = np.array([0.429, 0.488, 0.496])[:, None, None]\n",
        "    std = np.array([0.215, 0.219, 0.274])[:, None, None]\n",
        "    return np.clip((img * std + mean) * 255, 0, 255).astype(np.uint8)\n",
        "\n",
        "results_dir = '/content/drive/MyDrive/Results'\n",
        "mat_files = sorted([f for f in os.listdir(results_dir) if f.endswith('.mat')])\n",
        "\n",
        "for file in mat_files:\n",
        "    file_path = os.path.join(results_dir, file)\n",
        "    data = io.loadmat(file_path)\n",
        "\n",
        "    if 'image' in data and 'pred_depth' in data and 'true_depth' in data:\n",
        "        images = data['image']\n",
        "        pred_depths = process_depth(data['pred_depth'])\n",
        "        true_depths = process_depth(data['true_depth'])\n",
        "\n",
        "        print(f\"File: {file}\")\n",
        "        print(f\"Image shape: {images.shape}\")\n",
        "        print(f\"Predicted depth shape: {pred_depths.shape}\")\n",
        "        print(f\"True depth shape: {true_depths.shape}\")\n",
        "\n",
        "        for i in range(images.shape[0]):  # Iterate over the first dimension (6)\n",
        "            fig, (ax1, ax2, ax3) = plt.subplots(1, 3, figsize=(15, 5))\n",
        "\n",
        "            # Display image\n",
        "            img = images[i]\n",
        "            img_display = denormalize_for_display(img)\n",
        "            ax1.imshow(np.transpose(img_display, (1, 2, 0)))\n",
        "            ax1.set_title(f'Image {i+1}')\n",
        "            ax1.axis('off')\n",
        "\n",
        "            # Display predicted depth\n",
        "            pred_depth = pred_depths[i, 0]\n",
        "            im2 = ax2.imshow(pred_depth, cmap='plasma')\n",
        "            ax2.set_title(f'Predicted Depth {i+1}')\n",
        "            ax2.axis('off')\n",
        "            plt.colorbar(im2, ax=ax2, label='Depth')\n",
        "\n",
        "            # Display true depth\n",
        "            true_depth = true_depths[i, 0]\n",
        "            im3 = ax3.imshow(true_depth, cmap='plasma')\n",
        "            ax3.set_title(f'True Depth {i+1}')\n",
        "            ax3.axis('off')\n",
        "            plt.colorbar(im3, ax=ax3, label='Depth')\n",
        "\n",
        "            plt.suptitle(f'Data from {file} - Set {i+1}')\n",
        "            plt.tight_layout()\n",
        "            plt.show()\n",
        "    else:\n",
        "        print(f\"Required data not found in {file}\")"
      ]
    },
    {
      "cell_type": "markdown",
      "metadata": {
        "id": "RTD-mQaxIxLu"
      },
      "source": [
        "## First Experiment"
      ]
    },
    {
      "cell_type": "code",
      "execution_count": null,
      "metadata": {
        "id": "dU3oZPreIzif"
      },
      "outputs": [],
      "source": [
        "device = torch.device('cuda' if torch.cuda.is_available() else 'cpu')\n",
        "model = DepthEstimationResNet()\n",
        "model = model.to(device)"
      ]
    },
    {
      "cell_type": "code",
      "execution_count": null,
      "metadata": {
        "colab": {
          "base_uri": "https://localhost:8080/"
        },
        "id": "UOdzjyTjI20L",
        "outputId": "41e1e504-d094-4fa7-eadd-b6cf2da105e7"
      },
      "outputs": [
        {
          "name": "stderr",
          "output_type": "stream",
          "text": [
            "/usr/local/lib/python3.10/dist-packages/torch/optim/lr_scheduler.py:28: UserWarning: The verbose parameter is deprecated. Please use get_last_lr() to access the learning rate.\n",
            "  warnings.warn(\"The verbose parameter is deprecated. Please use get_last_lr() \"\n"
          ]
        },
        {
          "name": "stdout",
          "output_type": "stream",
          "text": [
            "0.8118866040706635\n",
            "Epoch 1/10\n",
            "Train Loss: 0.8119, val_metrics: {'d1': 0.299, 'abs_rel': 0.606, 'rmse': 1.717, 'mae': 1.147} \n",
            "\n",
            "0.6987374670505524\n",
            "Epoch 2/10\n",
            "Train Loss: 0.6987, val_metrics: {'d1': 0.405, 'abs_rel': 0.687, 'rmse': 1.346, 'mae': 0.934} \n",
            "\n",
            "0.5621177552938461\n",
            "Epoch 3/10\n",
            "Train Loss: 0.5621, val_metrics: {'d1': 0.422, 'abs_rel': 0.658, 'rmse': 1.302, 'mae': 0.896} \n",
            "\n",
            "0.5008540954589844\n",
            "Epoch 4/10\n",
            "Train Loss: 0.5009, val_metrics: {'d1': 0.425, 'abs_rel': 0.724, 'rmse': 1.315, 'mae': 0.921} \n",
            "\n",
            "0.4759733674526215\n",
            "Epoch 5/10\n",
            "Train Loss: 0.4760, val_metrics: {'d1': 0.449, 'abs_rel': 0.535, 'rmse': 1.202, 'mae': 0.802} \n",
            "\n",
            "0.4542074077129364\n",
            "Epoch 6/10\n",
            "Train Loss: 0.4542, val_metrics: {'d1': 0.404, 'abs_rel': 0.459, 'rmse': 1.324, 'mae': 0.861} \n",
            "\n",
            "0.4261844997406006\n",
            "Epoch 7/10\n",
            "Train Loss: 0.4262, val_metrics: {'d1': 0.483, 'abs_rel': 0.687, 'rmse': 1.172, 'mae': 0.816} \n",
            "\n",
            "0.42106656086444855\n",
            "Epoch 8/10\n",
            "Train Loss: 0.4211, val_metrics: {'d1': 0.5, 'abs_rel': 0.515, 'rmse': 1.099, 'mae': 0.725} \n",
            "\n",
            "0.38619596147537233\n",
            "Epoch 9/10\n",
            "Train Loss: 0.3862, val_metrics: {'d1': 0.503, 'abs_rel': 0.568, 'rmse': 1.024, 'mae': 0.71} \n",
            "\n",
            "0.3692860553264618\n",
            "Epoch 10/10\n",
            "Train Loss: 0.3693, val_metrics: {'d1': 0.479, 'abs_rel': 0.452, 'rmse': 1.098, 'mae': 0.721} \n",
            "\n"
          ]
        }
      ],
      "source": [
        "optimizer = optim.Adam(model.parameters(), lr=0.001)\n",
        "scheduler = torch.optim.lr_scheduler.ReduceLROnPlateau(optimizer, mode='min', factor=0.5, patience=2, verbose=True)\n",
        "criterion = nn.SmoothL1Loss()\n",
        "num_epochs = 10\n",
        "save_path = '/content/drive/MyDrive/Results'\n",
        "for epoch in range(num_epochs):\n",
        "    train_loss = train(model, train_loader_subset, optimizer, criterion, device)\n",
        "    print(train_loss)\n",
        "    results = validate(model, val_loader_subset, criterion, device, epoch, save_path)\n",
        "\n",
        "    scheduler.step(train_loss)\n",
        "\n",
        "    print(f\"Epoch {epoch+1}/{num_epochs}\")\n",
        "    print(f\"Train Loss: {train_loss:.4f}, val_metrics: {results} \")\n",
        "    print()"
      ]
    },
    {
      "cell_type": "markdown",
      "metadata": {
        "id": "aoTQdJRGRk2U"
      },
      "source": [
        "## Effect of Loss"
      ]
    },
    {
      "cell_type": "code",
      "execution_count": null,
      "metadata": {
        "colab": {
          "base_uri": "https://localhost:8080/"
        },
        "id": "IMjzacKRRnU4",
        "outputId": "3bd734be-b1cc-4cff-dc77-4c9db5311778"
      },
      "outputs": [
        {
          "name": "stdout",
          "output_type": "stream",
          "text": [
            "0.9898130660057067\n",
            "Epoch 1/10\n",
            "Train Loss: 0.9898, val_metrics: {'d1': 0.415, 'abs_rel': 0.531, 'rmse': 1.286, 'mae': 0.863} \n",
            "\n",
            "0.7907651510238648\n",
            "Epoch 2/10\n",
            "Train Loss: 0.7908, val_metrics: {'d1': 0.475, 'abs_rel': 0.52, 'rmse': 1.125, 'mae': 0.744} \n",
            "\n",
            "0.7554053332805634\n",
            "Epoch 3/10\n",
            "Train Loss: 0.7554, val_metrics: {'d1': 0.484, 'abs_rel': 0.664, 'rmse': 1.186, 'mae': 0.786} \n",
            "\n",
            "0.7397934551239014\n",
            "Epoch 4/10\n",
            "Train Loss: 0.7398, val_metrics: {'d1': 0.426, 'abs_rel': 0.482, 'rmse': 1.327, 'mae': 0.858} \n",
            "\n",
            "0.69591655087471\n",
            "Epoch 5/10\n",
            "Train Loss: 0.6959, val_metrics: {'d1': 0.518, 'abs_rel': 0.48, 'rmse': 1.051, 'mae': 0.684} \n",
            "\n",
            "0.6766093039512634\n",
            "Epoch 6/10\n",
            "Train Loss: 0.6766, val_metrics: {'d1': 0.537, 'abs_rel': 0.559, 'rmse': 1.027, 'mae': 0.685} \n",
            "\n",
            "0.6465184712409973\n",
            "Epoch 7/10\n",
            "Train Loss: 0.6465, val_metrics: {'d1': 0.549, 'abs_rel': 0.473, 'rmse': 0.979, 'mae': 0.642} \n",
            "\n",
            "0.6386787254810333\n",
            "Epoch 8/10\n",
            "Train Loss: 0.6387, val_metrics: {'d1': 0.545, 'abs_rel': 0.508, 'rmse': 1.033, 'mae': 0.681} \n",
            "\n",
            "0.6214979341030121\n",
            "Epoch 9/10\n",
            "Train Loss: 0.6215, val_metrics: {'d1': 0.523, 'abs_rel': 0.551, 'rmse': 1.1, 'mae': 0.738} \n",
            "\n",
            "0.590259003162384\n",
            "Epoch 10/10\n",
            "Train Loss: 0.5903, val_metrics: {'d1': 0.506, 'abs_rel': 0.357, 'rmse': 0.962, 'mae': 0.629} \n",
            "\n"
          ]
        }
      ],
      "source": [
        "optimizer = optim.Adam(model.parameters(), lr=0.001)\n",
        "scheduler = torch.optim.lr_scheduler.ReduceLROnPlateau(optimizer, mode='min', factor=0.5, patience=2, verbose=True)\n",
        "criterion = nn.L1Loss()\n",
        "num_epochs = 10\n",
        "save_path = '/content/drive/MyDrive/Results'\n",
        "for epoch in range(num_epochs):\n",
        "    train_loss = train(model, train_loader_subset, optimizer, criterion, device)\n",
        "    print(train_loss)\n",
        "    results = validate(model, val_loader_subset, criterion, device, epoch, save_path)\n",
        "\n",
        "    scheduler.step(train_loss)\n",
        "\n",
        "    print(f\"Epoch {epoch+1}/{num_epochs}\")\n",
        "    print(f\"Train Loss: {train_loss:.4f}, val_metrics: {results} \")\n",
        "    print()"
      ]
    },
    {
      "cell_type": "markdown",
      "metadata": {
        "id": "TU7xBKj-5HY5"
      },
      "source": [
        "## Simple Encode Decoder architecture"
      ]
    },
    {
      "cell_type": "code",
      "execution_count": null,
      "metadata": {
        "colab": {
          "base_uri": "https://localhost:8080/"
        },
        "id": "MXNeT7pp5KNQ",
        "outputId": "32bd2bb5-842a-47e8-9cb9-41b111dabcb0"
      },
      "outputs": [
        {
          "output_type": "stream",
          "name": "stdout",
          "text": [
            "Input shape: torch.Size([8, 3, 480, 640])\n",
            "Output shape: torch.Size([8, 1, 480, 640])\n"
          ]
        }
      ],
      "source": [
        "import torch\n",
        "import torch.nn as nn\n",
        "\n",
        "class SimpleDepthEstimationCNN(nn.Module):\n",
        "    def __init__(self):\n",
        "        super(SimpleDepthEstimationCNN, self).__init__()\n",
        "\n",
        "        # Custom CNN-based encoder (simplified)\n",
        "        self.encoder = nn.Sequential(\n",
        "            nn.Conv2d(3, 64, kernel_size=7, stride=2, padding=3),  # Downsample to [8, 64, 240, 320]\n",
        "            nn.BatchNorm2d(64),\n",
        "            nn.ReLU(inplace=True),\n",
        "            nn.MaxPool2d(kernel_size=3, stride=2, padding=1),      # Downsample to [8, 64, 120, 160]\n",
        "\n",
        "            nn.Conv2d(64, 128, kernel_size=3, stride=2, padding=1), # Downsample to [8, 128, 60, 80]\n",
        "            nn.BatchNorm2d(128),\n",
        "            nn.ReLU(inplace=True),\n",
        "\n",
        "            nn.Conv2d(128, 256, kernel_size=3, stride=2, padding=1), # Downsample to [8, 256, 30, 40]\n",
        "            nn.BatchNorm2d(256),\n",
        "            nn.ReLU(inplace=True),\n",
        "\n",
        "            nn.Conv2d(256, 512, kernel_size=3, stride=2, padding=1), # Downsample to [8, 512, 15, 20]\n",
        "            nn.BatchNorm2d(512),\n",
        "            nn.ReLU(inplace=True)\n",
        "        )\n",
        "\n",
        "        # Decoder with precise upsampling to match input dimensions\n",
        "        self.decoder = nn.Sequential(\n",
        "            nn.Conv2d(512, 256, kernel_size=3, padding=1),\n",
        "            nn.BatchNorm2d(256),\n",
        "            nn.ReLU(inplace=True),\n",
        "\n",
        "            nn.ConvTranspose2d(256, 128, kernel_size=4, stride=2, padding=1),  # Upsample to [8, 128, 30, 40]\n",
        "            nn.BatchNorm2d(128),\n",
        "            nn.ReLU(inplace=True),\n",
        "\n",
        "            nn.ConvTranspose2d(128, 64, kernel_size=4, stride=2, padding=1),   # Upsample to [8, 64, 60, 80]\n",
        "            nn.BatchNorm2d(64),\n",
        "            nn.ReLU(inplace=True),\n",
        "\n",
        "            nn.ConvTranspose2d(64, 32, kernel_size=4, stride=2, padding=1),    # Upsample to [8, 32, 120, 160]\n",
        "            nn.BatchNorm2d(32),\n",
        "            nn.ReLU(inplace=True),\n",
        "\n",
        "            nn.ConvTranspose2d(32, 16, kernel_size=4, stride=2, padding=1),    # Upsample to [8, 16, 240, 320]\n",
        "            nn.BatchNorm2d(16),\n",
        "            nn.ReLU(inplace=True),\n",
        "\n",
        "            nn.ConvTranspose2d(16, 1, kernel_size=4, stride=2, padding=1)      # Upsample to [8, 1, 480, 640]\n",
        "        )\n",
        "\n",
        "    def forward(self, x):\n",
        "        x = self.encoder(x)  # Pass input through the encoder\n",
        "        x = self.decoder(x)  # Pass the output through the decoder\n",
        "        return x  # Output the depth map\n",
        "\n",
        "# Instantiate the model\n",
        "model = SimpleDepthEstimationCNN()\n",
        "\n",
        "# Create a toy input tensor with shape [8, 3, 480, 640]\n",
        "input_tensor = torch.randn(8, 3, 480, 640)\n",
        "\n",
        "# Pass the input through the model\n",
        "output_tensor = model(input_tensor)\n",
        "\n",
        "# Print the shape of the output\n",
        "print(f\"Input shape: {input_tensor.shape}\")\n",
        "print(f\"Output shape: {output_tensor.shape}\")"
      ]
    },
    {
      "cell_type": "code",
      "source": [
        "total_params = sum(p.numel() for p in model.parameters() if p.requires_grad)\n",
        "print(f\"Total trainable parameters: {total_params}\")"
      ],
      "metadata": {
        "colab": {
          "base_uri": "https://localhost:8080/"
        },
        "id": "m3jroMlKiokq",
        "outputId": "c5a01f66-e1ba-4e63-9590-637f4688ea56"
      },
      "execution_count": null,
      "outputs": [
        {
          "output_type": "stream",
          "name": "stdout",
          "text": [
            "Total trainable parameters: 3438289\n"
          ]
        }
      ]
    },
    {
      "cell_type": "markdown",
      "metadata": {
        "id": "lfu5B2oGpydD"
      },
      "source": [
        "## Test on all dataset"
      ]
    },
    {
      "cell_type": "code",
      "execution_count": null,
      "metadata": {
        "id": "ap_3Gx-_p1be"
      },
      "outputs": [],
      "source": [
        "device = torch.device('cuda' if torch.cuda.is_available() else 'cpu')\n",
        "model = SimpleDepthEstimationCNN()\n",
        "model = model.to(device)"
      ]
    },
    {
      "cell_type": "code",
      "execution_count": null,
      "metadata": {
        "colab": {
          "base_uri": "https://localhost:8080/"
        },
        "id": "QWEbcfqcp56d",
        "outputId": "9f6f43e0-5fb2-4eda-c9ac-33c138e31f50"
      },
      "outputs": [
        {
          "name": "stderr",
          "output_type": "stream",
          "text": [
            "/usr/local/lib/python3.10/dist-packages/torch/optim/lr_scheduler.py:28: UserWarning: The verbose parameter is deprecated. Please use get_last_lr() to access the learning rate.\n",
            "  warnings.warn(\"The verbose parameter is deprecated. Please use get_last_lr() \"\n"
          ]
        },
        {
          "name": "stdout",
          "output_type": "stream",
          "text": [
            "0.5347677977379358\n",
            "Epoch 1/10\n",
            "Train Loss: 0.5348, val_metrics: {'d1': 0.431, 'abs_rel': 0.437, 'rmse': 1.03, 'mae': 0.718} \n",
            "\n",
            "0.37750282136696633\n",
            "Epoch 2/10\n",
            "Train Loss: 0.3775, val_metrics: {'d1': 0.435, 'abs_rel': 0.383, 'rmse': 1.025, 'mae': 0.698} \n",
            "\n",
            "0.29473206839214816\n",
            "Epoch 3/10\n",
            "Train Loss: 0.2947, val_metrics: {'d1': 0.442, 'abs_rel': 0.373, 'rmse': 0.973, 'mae': 0.667} \n",
            "\n",
            "0.24127593639661776\n",
            "Epoch 4/10\n",
            "Train Loss: 0.2413, val_metrics: {'d1': 0.48, 'abs_rel': 0.412, 'rmse': 0.926, 'mae': 0.64} \n",
            "\n",
            "0.20418130713479557\n",
            "Epoch 5/10\n",
            "Train Loss: 0.2042, val_metrics: {'d1': 0.48, 'abs_rel': 0.385, 'rmse': 0.968, 'mae': 0.654} \n",
            "\n",
            "0.17609903096069446\n",
            "Epoch 6/10\n",
            "Train Loss: 0.1761, val_metrics: {'d1': 0.504, 'abs_rel': 0.363, 'rmse': 0.899, 'mae': 0.607} \n",
            "\n",
            "0.15779270660620268\n",
            "Epoch 7/10\n",
            "Train Loss: 0.1578, val_metrics: {'d1': 0.522, 'abs_rel': 0.354, 'rmse': 0.92, 'mae': 0.609} \n",
            "\n",
            "0.14347431497901855\n",
            "Epoch 8/10\n",
            "Train Loss: 0.1435, val_metrics: {'d1': 0.534, 'abs_rel': 0.358, 'rmse': 0.876, 'mae': 0.588} \n",
            "\n",
            "0.1325141922684917\n",
            "Epoch 9/10\n",
            "Train Loss: 0.1325, val_metrics: {'d1': 0.54, 'abs_rel': 0.33, 'rmse': 0.922, 'mae': 0.598} \n",
            "\n",
            "0.12126283323044305\n",
            "Epoch 10/10\n",
            "Train Loss: 0.1213, val_metrics: {'d1': 0.533, 'abs_rel': 0.35, 'rmse': 0.948, 'mae': 0.615} \n",
            "\n"
          ]
        }
      ],
      "source": [
        "optimizer = optim.Adam(model.parameters(), lr=0.001)\n",
        "scheduler = torch.optim.lr_scheduler.ReduceLROnPlateau(optimizer, mode='min', factor=0.5, patience=2, verbose=True)\n",
        "criterion = nn.SmoothL1Loss()\n",
        "num_epochs = 10\n",
        "save_path = '/content/drive/MyDrive/Results'\n",
        "for epoch in range(num_epochs):\n",
        "    train_loss = train(model, train_loader_subset, optimizer, criterion, device)\n",
        "    print(train_loss)\n",
        "    results = validate(model, test_loader_subset, criterion, device, epoch, save_path)\n",
        "\n",
        "    scheduler.step(train_loss)\n",
        "\n",
        "    print(f\"Epoch {epoch+1}/{num_epochs}\")\n",
        "    print(f\"Train Loss: {train_loss:.4f}, val_metrics: {results} \")\n",
        "    print()"
      ]
    },
    {
      "cell_type": "markdown",
      "metadata": {
        "id": "dpgNMCDWyK95"
      },
      "source": [
        "## Comparison on full dataset for Enc-Dec ResNet and Simple Enc-Dec"
      ]
    },
    {
      "cell_type": "code",
      "execution_count": null,
      "metadata": {
        "colab": {
          "background_save": true
        },
        "id": "anRM0oKQmZBa"
      },
      "outputs": [],
      "source": [
        "import os\n",
        "import numpy as np\n",
        "from scipy import io\n",
        "import matplotlib.pyplot as plt\n",
        "\n",
        "def normalize_image(img):\n",
        "    mean = np.array([0.429, 0.488, 0.496])[:, None, None]\n",
        "    std = np.array([0.215, 0.219, 0.274])[:, None, None]\n",
        "    return (img * 255 - mean) / std\n",
        "\n",
        "def process_depth(depth):\n",
        "    return np.nan_to_num(depth, nan=0.0)\n",
        "\n",
        "def denormalize_for_display(img):\n",
        "    mean = np.array([0.429, 0.488, 0.496])[:, None, None]\n",
        "    std = np.array([0.215, 0.219, 0.274])[:, None, None]\n",
        "    return np.clip((img * std + mean) * 255, 0, 255).astype(np.uint8)\n",
        "\n",
        "results_dir = '/content/drive/MyDrive/Results'\n",
        "mat_files = sorted([f for f in os.listdir(results_dir) if f.endswith('.mat')])\n",
        "\n",
        "for file in mat_files:\n",
        "    file_path = os.path.join(results_dir, file)\n",
        "    data = io.loadmat(file_path)\n",
        "\n",
        "    if 'image' in data and 'pred_depth' in data and 'true_depth' in data:\n",
        "        images = data['image']\n",
        "        pred_depths = process_depth(data['pred_depth'])\n",
        "        true_depths = process_depth(data['true_depth'])\n",
        "\n",
        "        print(f\"File: {file}\")\n",
        "        print(f\"Image shape: {images.shape}\")\n",
        "        print(f\"Predicted depth shape: {pred_depths.shape}\")\n",
        "        print(f\"True depth shape: {true_depths.shape}\")\n",
        "\n",
        "        for i in range(images.shape[0]):  # Iterate over the first dimension (6)\n",
        "            fig, (ax1, ax2, ax3) = plt.subplots(1, 3, figsize=(15, 5))\n",
        "\n",
        "            # Display image\n",
        "            img = images[i]\n",
        "            img_display = denormalize_for_display(img)\n",
        "            ax1.imshow(np.transpose(img_display, (1, 2, 0)))\n",
        "            ax1.set_title(f'Image {i+1}')\n",
        "            ax1.axis('off')\n",
        "\n",
        "            # Display predicted depth\n",
        "            pred_depth = pred_depths[i, 0]\n",
        "            im2 = ax2.imshow(pred_depth, cmap='plasma')\n",
        "            ax2.set_title(f'Predicted Depth {i+1}')\n",
        "            ax2.axis('off')\n",
        "            plt.colorbar(im2, ax=ax2, label='Depth')\n",
        "\n",
        "            # Display true depth\n",
        "            true_depth = true_depths[i, 0]\n",
        "            im3 = ax3.imshow(true_depth, cmap='plasma')\n",
        "            ax3.set_title(f'True Depth {i+1}')\n",
        "            ax3.axis('off')\n",
        "            plt.colorbar(im3, ax=ax3, label='Depth')\n",
        "\n",
        "            plt.suptitle(f'Data from {file} - Set {i+1}')\n",
        "            plt.tight_layout()\n",
        "            plt.show()\n",
        "    else:\n",
        "        print(f\"Required data not found in {file}\")"
      ]
    },
    {
      "cell_type": "markdown",
      "metadata": {
        "id": "R5aSSEMHp3IP"
      },
      "source": [
        "## Test on partial data"
      ]
    },
    {
      "cell_type": "code",
      "execution_count": null,
      "metadata": {
        "id": "Pr8B3n6o6nkD"
      },
      "outputs": [],
      "source": [
        "device = torch.device('cuda' if torch.cuda.is_available() else 'cpu')\n",
        "model = SimpleDepthEstimationCNN()\n",
        "model = model.to(device)"
      ]
    },
    {
      "cell_type": "code",
      "execution_count": null,
      "metadata": {
        "colab": {
          "base_uri": "https://localhost:8080/"
        },
        "id": "WLnug9gl6tpG",
        "outputId": "8b78ccba-e329-4667-f218-a8c7bc1d761f"
      },
      "outputs": [
        {
          "name": "stdout",
          "output_type": "stream",
          "text": [
            "0.7112818737030029\n",
            "Epoch 1/10\n",
            "Train Loss: 0.7113, val_metrics: {'d1': 0.391, 'abs_rel': 0.574, 'rmse': 1.453, 'mae': 0.957} \n",
            "\n",
            "0.5839817821979523\n",
            "Epoch 2/10\n",
            "Train Loss: 0.5840, val_metrics: {'d1': 0.411, 'abs_rel': 0.611, 'rmse': 1.359, 'mae': 0.917} \n",
            "\n",
            "0.5577008085250854\n",
            "Epoch 3/10\n",
            "Train Loss: 0.5577, val_metrics: {'d1': 0.412, 'abs_rel': 0.564, 'rmse': 1.372, 'mae': 0.905} \n",
            "\n",
            "0.5282193138599396\n",
            "Epoch 4/10\n",
            "Train Loss: 0.5282, val_metrics: {'d1': 0.398, 'abs_rel': 0.54, 'rmse': 1.371, 'mae': 0.904} \n",
            "\n",
            "0.4977871692180634\n",
            "Epoch 5/10\n",
            "Train Loss: 0.4978, val_metrics: {'d1': 0.435, 'abs_rel': 0.651, 'rmse': 1.316, 'mae': 0.874} \n",
            "\n",
            "0.500438544511795\n",
            "Epoch 6/10\n",
            "Train Loss: 0.5004, val_metrics: {'d1': 0.436, 'abs_rel': 0.535, 'rmse': 1.238, 'mae': 0.821} \n",
            "\n",
            "0.47136339199543\n",
            "Epoch 7/10\n",
            "Train Loss: 0.4714, val_metrics: {'d1': 0.452, 'abs_rel': 0.553, 'rmse': 1.228, 'mae': 0.816} \n",
            "\n",
            "0.457632227897644\n",
            "Epoch 8/10\n",
            "Train Loss: 0.4576, val_metrics: {'d1': 0.447, 'abs_rel': 0.665, 'rmse': 1.197, 'mae': 0.847} \n",
            "\n",
            "0.4457141535282135\n",
            "Epoch 9/10\n",
            "Train Loss: 0.4457, val_metrics: {'d1': 0.452, 'abs_rel': 0.585, 'rmse': 1.196, 'mae': 0.812} \n",
            "\n",
            "0.420853663444519\n",
            "Epoch 10/10\n",
            "Train Loss: 0.4209, val_metrics: {'d1': 0.453, 'abs_rel': 0.473, 'rmse': 1.191, 'mae': 0.778} \n",
            "\n"
          ]
        }
      ],
      "source": [
        "optimizer = optim.Adam(model.parameters(), lr=0.001)\n",
        "scheduler = torch.optim.lr_scheduler.ReduceLROnPlateau(optimizer, mode='min', factor=0.5, patience=2, verbose=True)\n",
        "criterion = nn.SmoothL1Loss()\n",
        "num_epochs = 10\n",
        "save_path = '/content/drive/MyDrive/Results'\n",
        "for epoch in range(num_epochs):\n",
        "    train_loss = train(model, train_loader_subset, optimizer, criterion, device)\n",
        "    print(train_loss)\n",
        "    results = validate(model, val_loader_subset, criterion, device, epoch, save_path)\n",
        "\n",
        "    scheduler.step(train_loss)\n",
        "\n",
        "    print(f\"Epoch {epoch+1}/{num_epochs}\")\n",
        "    print(f\"Train Loss: {train_loss:.4f}, val_metrics: {results} \")\n",
        "    print()"
      ]
    },
    {
      "cell_type": "markdown",
      "metadata": {
        "id": "8ggloZjzMkUn"
      },
      "source": [
        "## Check Data Augmentation effect"
      ]
    },
    {
      "cell_type": "code",
      "execution_count": null,
      "metadata": {
        "colab": {
          "base_uri": "https://localhost:8080/"
        },
        "id": "s2OorXB9MpYv",
        "outputId": "b01ff419-d6b0-469b-cdb7-fb1d997f5ff0"
      },
      "outputs": [
        {
          "name": "stderr",
          "output_type": "stream",
          "text": [
            "/usr/local/lib/python3.10/dist-packages/torch/optim/lr_scheduler.py:28: UserWarning: The verbose parameter is deprecated. Please use get_last_lr() to access the learning rate.\n",
            "  warnings.warn(\"The verbose parameter is deprecated. Please use get_last_lr() \"\n"
          ]
        },
        {
          "name": "stdout",
          "output_type": "stream",
          "text": [
            "0.8934143046140671\n",
            "Epoch 1/10\n",
            "Train Loss: 0.8934, val_metrics: {'d1': 0.381, 'abs_rel': 0.591, 'rmse': 1.486, 'mae': 0.976} \n",
            "\n",
            "0.585102127790451\n",
            "Epoch 2/10\n",
            "Train Loss: 0.5851, val_metrics: {'d1': 0.357, 'abs_rel': 0.552, 'rmse': 1.439, 'mae': 0.967} \n",
            "\n",
            "0.5598778421878815\n",
            "Epoch 3/10\n",
            "Train Loss: 0.5599, val_metrics: {'d1': 0.415, 'abs_rel': 0.623, 'rmse': 1.33, 'mae': 0.906} \n",
            "\n",
            "0.5202531597614288\n",
            "Epoch 4/10\n",
            "Train Loss: 0.5203, val_metrics: {'d1': 0.409, 'abs_rel': 0.61, 'rmse': 1.351, 'mae': 0.914} \n",
            "\n",
            "0.5013505525588989\n",
            "Epoch 5/10\n",
            "Train Loss: 0.5014, val_metrics: {'d1': 0.442, 'abs_rel': 0.627, 'rmse': 1.282, 'mae': 0.867} \n",
            "\n",
            "0.4828870800733566\n",
            "Epoch 6/10\n",
            "Train Loss: 0.4829, val_metrics: {'d1': 0.428, 'abs_rel': 0.524, 'rmse': 1.321, 'mae': 0.863} \n",
            "\n",
            "0.45775735878944396\n",
            "Epoch 7/10\n",
            "Train Loss: 0.4578, val_metrics: {'d1': 0.439, 'abs_rel': 0.555, 'rmse': 1.248, 'mae': 0.826} \n",
            "\n",
            "0.45830159401893616\n",
            "Epoch 8/10\n",
            "Train Loss: 0.4583, val_metrics: {'d1': 0.38, 'abs_rel': 0.498, 'rmse': 1.352, 'mae': 0.89} \n",
            "\n",
            "0.4351299388408661\n",
            "Epoch 9/10\n",
            "Train Loss: 0.4351, val_metrics: {'d1': 0.451, 'abs_rel': 0.495, 'rmse': 1.239, 'mae': 0.805} \n",
            "\n",
            "0.4225001356601715\n",
            "Epoch 10/10\n",
            "Train Loss: 0.4225, val_metrics: {'d1': 0.475, 'abs_rel': 0.585, 'rmse': 1.162, 'mae': 0.793} \n",
            "\n"
          ]
        }
      ],
      "source": [
        "optimizer = optim.Adam(model.parameters(), lr=0.001)\n",
        "scheduler = torch.optim.lr_scheduler.ReduceLROnPlateau(optimizer, mode='min', factor=0.5, patience=2, verbose=True)\n",
        "criterion = nn.SmoothL1Loss()\n",
        "num_epochs = 10\n",
        "save_path = '/content/drive/MyDrive/Results'\n",
        "for epoch in range(num_epochs):\n",
        "    train_loss = train(model, train_loader_subset, optimizer, criterion, device)\n",
        "    print(train_loss)\n",
        "    results = validate(model, val_loader_subset, criterion, device, epoch, save_path)\n",
        "\n",
        "    scheduler.step(train_loss)\n",
        "\n",
        "    print(f\"Epoch {epoch+1}/{num_epochs}\")\n",
        "    print(f\"Train Loss: {train_loss:.4f}, val_metrics: {results} \")\n",
        "    print()"
      ]
    },
    {
      "cell_type": "markdown",
      "metadata": {
        "id": "y8Pf7u8K1ohM"
      },
      "source": [
        "## U-Net Architecture"
      ]
    },
    {
      "cell_type": "code",
      "source": [
        "pip install segmentation-models-pytorch"
      ],
      "metadata": {
        "id": "ErFYmjcmn6Gc"
      },
      "execution_count": null,
      "outputs": []
    },
    {
      "cell_type": "code",
      "source": [
        "import segmentation_models_pytorch as smp"
      ],
      "metadata": {
        "id": "pBURULcRoK9v"
      },
      "execution_count": null,
      "outputs": []
    },
    {
      "cell_type": "code",
      "execution_count": null,
      "metadata": {
        "id": "wbLz0koSBUk5",
        "colab": {
          "base_uri": "https://localhost:8080/"
        },
        "outputId": "77b60481-a742-4584-e562-62edf7c8dae3"
      },
      "outputs": [
        {
          "output_type": "stream",
          "name": "stderr",
          "text": [
            "Downloading: \"https://download.pytorch.org/models/resnet50-19c8e357.pth\" to /root/.cache/torch/hub/checkpoints/resnet50-19c8e357.pth\n",
            "100%|██████████| 97.8M/97.8M [00:00<00:00, 297MB/s]\n"
          ]
        }
      ],
      "source": [
        "model = smp.Unet(\n",
        "            encoder_name=\"resnet50\",        # choose encoder, e.g. mobilenet_v2 or efficientnet-b7\n",
        "            encoder_weights=\"imagenet\",     # use `imagenet` pre-trained weights for encoder initialization\n",
        "            in_channels=3,                  # model input channels (1 for gray-scale images, 3 for RGB, etc.)\n",
        "            classes=1,                      # model output channels (number of classes in your dataset)\n",
        "            decoder_use_batchnorm=True\n",
        "    )"
      ]
    },
    {
      "cell_type": "code",
      "source": [
        "total_params = sum(p.numel() for p in model.parameters() if p.requires_grad)\n",
        "print(f\"Total trainable parameters: {total_params}\")"
      ],
      "metadata": {
        "colab": {
          "base_uri": "https://localhost:8080/"
        },
        "id": "dXIS_BGtoUR5",
        "outputId": "e823e292-ae85-4348-d616-f9415b60479a"
      },
      "execution_count": null,
      "outputs": [
        {
          "output_type": "stream",
          "name": "stdout",
          "text": [
            "Total trainable parameters: 32521105\n"
          ]
        }
      ]
    },
    {
      "cell_type": "code",
      "source": [
        "for name, param in model.named_parameters():\n",
        "    if param.requires_grad:\n",
        "        print(f\"{name}: {param.numel()} parameters\")"
      ],
      "metadata": {
        "id": "37-Ey9tWoXmu"
      },
      "execution_count": null,
      "outputs": []
    },
    {
      "cell_type": "code",
      "source": [
        "for name, module in model.named_modules():\n",
        "    if list(module.children()):\n",
        "        print(f\"{name}:\")\n",
        "        for child_name, child_module in module.named_children():\n",
        "            trainable = any(p.requires_grad for p in child_module.parameters())\n",
        "            print(f\"  {child_name}: {'Trainable' if trainable else 'Frozen'}\")"
      ],
      "metadata": {
        "id": "ezM-QFJ9olHX"
      },
      "execution_count": null,
      "outputs": []
    },
    {
      "cell_type": "code",
      "source": [
        "import torch\n",
        "from torchsummary import summary"
      ],
      "metadata": {
        "id": "K_oA4yeRpNl2"
      },
      "execution_count": null,
      "outputs": []
    },
    {
      "cell_type": "code",
      "execution_count": null,
      "metadata": {
        "colab": {
          "base_uri": "https://localhost:8080/"
        },
        "id": "0nT8gzFoBZxf",
        "outputId": "e3de9bcc-cb74-47a4-99f4-843e5d968f19"
      },
      "outputs": [
        {
          "output_type": "stream",
          "name": "stdout",
          "text": [
            "Output shape: torch.Size([8, 1, 480, 640])\n"
          ]
        }
      ],
      "source": [
        "# Create a toy input tensor with shape [8, 3, 480, 640]\n",
        "input_tensor = torch.randn(8, 3, 480, 640)\n",
        "\n",
        "# Pass the input through the model\n",
        "output_tensor = model(input_tensor)\n",
        "\n",
        "\n",
        "# Print the shape of the output\n",
        "print(\"Output shape:\", output_tensor.shape)"
      ]
    },
    {
      "cell_type": "code",
      "execution_count": null,
      "metadata": {
        "colab": {
          "base_uri": "https://localhost:8080/"
        },
        "id": "ErJqLviNaftS",
        "outputId": "4a2a3169-1f76-446b-8549-74d181f0a036"
      },
      "outputs": [
        {
          "name": "stdout",
          "output_type": "stream",
          "text": [
            "0.5533041907548905\n",
            "Epoch 1/10\n",
            "Train Loss: 0.5533, val_metrics: {'d1': 0.483, 'abs_rel': 0.533, 'rmse': 1.111, 'mae': 0.741} \n",
            "\n",
            "0.419997260093689\n",
            "Epoch 2/10\n",
            "Train Loss: 0.4200, val_metrics: {'d1': 0.474, 'abs_rel': 0.858, 'rmse': 1.537, 'mae': 0.986} \n",
            "\n",
            "0.41250757360458373\n",
            "Epoch 3/10\n",
            "Train Loss: 0.4125, val_metrics: {'d1': 0.47, 'abs_rel': 0.428, 'rmse': 1.1, 'mae': 0.719} \n",
            "\n",
            "0.38508757877349853\n",
            "Epoch 4/10\n",
            "Train Loss: 0.3851, val_metrics: {'d1': 0.517, 'abs_rel': 0.407, 'rmse': 0.989, 'mae': 0.644} \n",
            "\n",
            "0.3602143007516861\n",
            "Epoch 5/10\n",
            "Train Loss: 0.3602, val_metrics: {'d1': 0.545, 'abs_rel': 0.461, 'rmse': 1.007, 'mae': 0.656} \n",
            "\n",
            "0.33642802059650423\n",
            "Epoch 6/10\n",
            "Train Loss: 0.3364, val_metrics: {'d1': 0.466, 'abs_rel': 0.58, 'rmse': 1.15, 'mae': 0.78} \n",
            "\n",
            "0.3426798106431961\n",
            "Epoch 7/10\n",
            "Train Loss: 0.3427, val_metrics: {'d1': 0.56, 'abs_rel': 0.425, 'rmse': 0.89, 'mae': 0.596} \n",
            "\n",
            "0.31149137687683104\n",
            "Epoch 8/10\n",
            "Train Loss: 0.3115, val_metrics: {'d1': 0.558, 'abs_rel': 0.604, 'rmse': 1.134, 'mae': 0.712} \n",
            "\n",
            "0.2993376257419586\n",
            "Epoch 9/10\n",
            "Train Loss: 0.2993, val_metrics: {'d1': 0.518, 'abs_rel': 0.342, 'rmse': 0.873, 'mae': 0.586} \n",
            "\n",
            "0.27308247292041776\n",
            "Epoch 10/10\n",
            "Train Loss: 0.2731, val_metrics: {'d1': 0.565, 'abs_rel': 0.35, 'rmse': 0.822, 'mae': 0.553} \n",
            "\n"
          ]
        }
      ],
      "source": [
        "device = torch.device('cuda' if torch.cuda.is_available() else 'cpu')\n",
        "model = model.to(device)\n",
        "\n",
        "optimizer = optim.Adam(model.parameters(), lr=0.001)\n",
        "scheduler = torch.optim.lr_scheduler.ReduceLROnPlateau(optimizer, mode='min', factor=0.5, patience=2, verbose=True)\n",
        "criterion = nn.SmoothL1Loss()\n",
        "num_epochs = 10\n",
        "save_path = '/content/drive/MyDrive/Results'\n",
        "for epoch in range(num_epochs):\n",
        "    train_loss = train(model, train_loader_subset, optimizer, criterion, device)\n",
        "    print(train_loss)\n",
        "    results = validate(model, test_loader_subset, criterion, device, epoch, save_path)\n",
        "\n",
        "    scheduler.step(train_loss)\n",
        "\n",
        "    print(f\"Epoch {epoch+1}/{num_epochs}\")\n",
        "    print(f\"Train Loss: {train_loss:.4f}, val_metrics: {results} \")\n",
        "    print()\n"
      ]
    },
    {
      "cell_type": "code",
      "execution_count": null,
      "metadata": {
        "id": "ju_ihxXLlZe6"
      },
      "outputs": [],
      "source": [
        "import os\n",
        "import numpy as np\n",
        "from scipy import io\n",
        "import matplotlib.pyplot as plt\n",
        "\n",
        "def normalize_image(img):\n",
        "    mean = np.array([0.429, 0.488, 0.496])[:, None, None]\n",
        "    std = np.array([0.215, 0.219, 0.274])[:, None, None]\n",
        "    return (img * 255 - mean) / std\n",
        "\n",
        "def process_depth(depth):\n",
        "    return np.nan_to_num(depth, nan=0.0)\n",
        "\n",
        "def denormalize_for_display(img):\n",
        "    mean = np.array([0.429, 0.488, 0.496])[:, None, None]\n",
        "    std = np.array([0.215, 0.219, 0.274])[:, None, None]\n",
        "    return np.clip((img * std + mean) * 255, 0, 255).astype(np.uint8)\n",
        "\n",
        "results_dir = '/content/drive/MyDrive/Results'\n",
        "mat_files = sorted([f for f in os.listdir(results_dir) if f.endswith('.mat')])\n",
        "\n",
        "for file in mat_files:\n",
        "    file_path = os.path.join(results_dir, file)\n",
        "    data = io.loadmat(file_path)\n",
        "\n",
        "    if 'image' in data and 'pred_depth' in data and 'true_depth' in data:\n",
        "        images = data['image']\n",
        "        pred_depths = process_depth(data['pred_depth'])\n",
        "        true_depths = process_depth(data['true_depth'])\n",
        "\n",
        "        print(f\"File: {file}\")\n",
        "        print(f\"Image shape: {images.shape}\")\n",
        "        print(f\"Predicted depth shape: {pred_depths.shape}\")\n",
        "        print(f\"True depth shape: {true_depths.shape}\")\n",
        "\n",
        "        for i in range(images.shape[0]):  # Iterate over the first dimension (6)\n",
        "            fig, (ax1, ax2, ax3) = plt.subplots(1, 3, figsize=(15, 5))\n",
        "\n",
        "            # Display image\n",
        "            img = images[i]\n",
        "            img_display = denormalize_for_display(img)\n",
        "            ax1.imshow(np.transpose(img_display, (1, 2, 0)))\n",
        "            ax1.set_title(f'Image {i+1}')\n",
        "            ax1.axis('off')\n",
        "\n",
        "            # Display predicted depth\n",
        "            pred_depth = pred_depths[i, 0]\n",
        "            im2 = ax2.imshow(pred_depth, cmap='plasma')\n",
        "            ax2.set_title(f'Predicted Depth {i+1}')\n",
        "            ax2.axis('off')\n",
        "            plt.colorbar(im2, ax=ax2, label='Depth')\n",
        "\n",
        "            # Display true depth\n",
        "            true_depth = true_depths[i, 0]\n",
        "            im3 = ax3.imshow(true_depth, cmap='plasma')\n",
        "            ax3.set_title(f'True Depth {i+1}')\n",
        "            ax3.axis('off')\n",
        "            plt.colorbar(im3, ax=ax3, label='Depth')\n",
        "\n",
        "            plt.suptitle(f'Data from {file} - Set {i+1}')\n",
        "            plt.tight_layout()\n",
        "            plt.show()\n",
        "    else:\n",
        "        print(f\"Required data not found in {file}\")"
      ]
    },
    {
      "cell_type": "markdown",
      "metadata": {
        "id": "9PrX7I5xl7jI"
      },
      "source": [
        "## Effect of Loss"
      ]
    },
    {
      "cell_type": "code",
      "execution_count": null,
      "metadata": {
        "colab": {
          "base_uri": "https://localhost:8080/"
        },
        "id": "7K1134BOl9ok",
        "outputId": "671d1f28-0f6e-4f7d-dbeb-7cf41a800ed2"
      },
      "outputs": [
        {
          "name": "stdout",
          "output_type": "stream",
          "text": [
            "0.9202240958213806\n",
            "Epoch 1/10\n",
            "Train Loss: 0.9202, val_metrics: {'d1': 0.445, 'abs_rel': 0.784, 'rmse': 1.617, 'mae': 1.012} \n",
            "\n",
            "0.7927320785522461\n",
            "Epoch 2/10\n",
            "Train Loss: 0.7927, val_metrics: {'d1': 0.484, 'abs_rel': 0.514, 'rmse': 1.126, 'mae': 0.738} \n",
            "\n",
            "0.7192491505146027\n",
            "Epoch 3/10\n",
            "Train Loss: 0.7192, val_metrics: {'d1': 0.488, 'abs_rel': 0.525, 'rmse': 1.148, 'mae': 0.747} \n",
            "\n",
            "0.6843520715236664\n",
            "Epoch 4/10\n",
            "Train Loss: 0.6844, val_metrics: {'d1': 0.501, 'abs_rel': 0.373, 'rmse': 1.016, 'mae': 0.653} \n",
            "\n",
            "0.6514911007881165\n",
            "Epoch 5/10\n",
            "Train Loss: 0.6515, val_metrics: {'d1': 0.524, 'abs_rel': 0.498, 'rmse': 1.015, 'mae': 0.672} \n",
            "\n",
            "0.6395654635429382\n",
            "Epoch 6/10\n",
            "Train Loss: 0.6396, val_metrics: {'d1': 0.53, 'abs_rel': 0.459, 'rmse': 0.954, 'mae': 0.647} \n",
            "\n",
            "0.6321777784824372\n",
            "Epoch 7/10\n",
            "Train Loss: 0.6322, val_metrics: {'d1': 0.538, 'abs_rel': 0.479, 'rmse': 0.995, 'mae': 0.67} \n",
            "\n",
            "0.5950682322978973\n",
            "Epoch 8/10\n",
            "Train Loss: 0.5951, val_metrics: {'d1': 0.5, 'abs_rel': 0.349, 'rmse': 0.972, 'mae': 0.631} \n",
            "\n",
            "0.5629728789329529\n",
            "Epoch 9/10\n",
            "Train Loss: 0.5630, val_metrics: {'d1': 0.562, 'abs_rel': 0.489, 'rmse': 0.984, 'mae': 0.649} \n",
            "\n",
            "0.5621058890819549\n",
            "Epoch 10/10\n",
            "Train Loss: 0.5621, val_metrics: {'d1': 0.565, 'abs_rel': 0.523, 'rmse': 1.045, 'mae': 0.677} \n",
            "\n"
          ]
        }
      ],
      "source": [
        "device = torch.device('cuda' if torch.cuda.is_available() else 'cpu')\n",
        "model = model.to(device)\n",
        "\n",
        "optimizer = optim.Adam(model.parameters(), lr=0.001)\n",
        "scheduler = torch.optim.lr_scheduler.ReduceLROnPlateau(optimizer, mode='min', factor=0.5, patience=2, verbose=True)\n",
        "criterion = nn.L1Loss()\n",
        "num_epochs = 10\n",
        "save_path = '/content/drive/MyDrive/Results'\n",
        "for epoch in range(num_epochs):\n",
        "    train_loss = train(model, train_loader_subset, optimizer, criterion, device)\n",
        "    print(train_loss)\n",
        "    results = validate(model, test_loader_subset, criterion, device, epoch, save_path)\n",
        "\n",
        "    scheduler.step(train_loss)\n",
        "\n",
        "    print(f\"Epoch {epoch+1}/{num_epochs}\")\n",
        "    print(f\"Train Loss: {train_loss:.4f}, val_metrics: {results} \")\n",
        "    print()"
      ]
    },
    {
      "cell_type": "markdown",
      "metadata": {
        "id": "wErh6eiV1q4a"
      },
      "source": [
        "## Run the model on Full dataset"
      ]
    },
    {
      "cell_type": "code",
      "execution_count": null,
      "metadata": {
        "colab": {
          "base_uri": "https://localhost:8080/"
        },
        "id": "Q8OheEoM1vYv",
        "outputId": "78962d76-a1fb-4fa0-b49f-48578cc2a843"
      },
      "outputs": [
        {
          "name": "stdout",
          "output_type": "stream",
          "text": [
            "0.35832055821221254\n",
            "Epoch 1/10\n",
            "Train Loss: 0.3583, val_metrics: {'d1': 0.516, 'abs_rel': 0.355, 'rmse': 0.843, 'mae': 0.579} \n",
            "\n",
            "0.2212029400825601\n",
            "Epoch 2/10\n",
            "Train Loss: 0.2212, val_metrics: {'d1': 0.678, 'abs_rel': 0.268, 'rmse': 0.678, 'mae': 0.437} \n",
            "\n",
            "0.17261545879676599\n",
            "Epoch 3/10\n",
            "Train Loss: 0.1726, val_metrics: {'d1': 0.715, 'abs_rel': 0.242, 'rmse': 0.596, 'mae': 0.389} \n",
            "\n",
            "0.14372751533053027\n",
            "Epoch 4/10\n",
            "Train Loss: 0.1437, val_metrics: {'d1': 0.686, 'abs_rel': 0.225, 'rmse': 0.608, 'mae': 0.392} \n",
            "\n",
            "0.12561517671090713\n",
            "Epoch 5/10\n",
            "Train Loss: 0.1256, val_metrics: {'d1': 0.715, 'abs_rel': 0.236, 'rmse': 0.585, 'mae': 0.379} \n",
            "\n",
            "0.1147131628545028\n",
            "Epoch 6/10\n",
            "Train Loss: 0.1147, val_metrics: {'d1': 0.773, 'abs_rel': 0.188, 'rmse': 0.524, 'mae': 0.328} \n",
            "\n",
            "0.10089703881050305\n",
            "Epoch 7/10\n",
            "Train Loss: 0.1009, val_metrics: {'d1': 0.794, 'abs_rel': 0.185, 'rmse': 0.508, 'mae': 0.313} \n",
            "\n",
            "0.09248063928075292\n",
            "Epoch 8/10\n",
            "Train Loss: 0.0925, val_metrics: {'d1': 0.764, 'abs_rel': 0.223, 'rmse': 0.546, 'mae': 0.345} \n",
            "\n",
            "0.08551130152527095\n",
            "Epoch 9/10\n",
            "Train Loss: 0.0855, val_metrics: {'d1': 0.769, 'abs_rel': 0.207, 'rmse': 0.49, 'mae': 0.315} \n",
            "\n",
            "0.07737419067308092\n",
            "Epoch 10/10\n",
            "Train Loss: 0.0774, val_metrics: {'d1': 0.795, 'abs_rel': 0.196, 'rmse': 0.492, 'mae': 0.304} \n",
            "\n"
          ]
        }
      ],
      "source": [
        "device = torch.device('cuda' if torch.cuda.is_available() else 'cpu')\n",
        "model = model.to(device)\n",
        "optimizer = optim.Adam(model.parameters(), lr=0.001)\n",
        "scheduler = torch.optim.lr_scheduler.ReduceLROnPlateau(optimizer, mode='min', factor=0.5, patience=2, verbose=True)\n",
        "criterion = nn.SmoothL1Loss()\n",
        "num_epochs = 10\n",
        "save_path = '/content/drive/MyDrive/Results'\n",
        "for epoch in range(num_epochs):\n",
        "    train_loss = train(model, train_loader_subset, optimizer, criterion, device)\n",
        "    print(train_loss)\n",
        "    results = validate(model, test_loader_subset, criterion, device, epoch, save_path)\n",
        "\n",
        "    scheduler.step(train_loss)\n",
        "\n",
        "    print(f\"Epoch {epoch+1}/{num_epochs}\")\n",
        "    print(f\"Train Loss: {train_loss:.4f}, val_metrics: {results} \")\n",
        "    print()"
      ]
    },
    {
      "cell_type": "code",
      "execution_count": null,
      "metadata": {
        "colab": {
          "background_save": true
        },
        "id": "7vYJgfBJJKKO"
      },
      "outputs": [],
      "source": [
        "import os\n",
        "import numpy as np\n",
        "from scipy import io\n",
        "import matplotlib.pyplot as plt\n",
        "\n",
        "def normalize_image(img):\n",
        "    mean = np.array([0.429, 0.488, 0.496])[:, None, None]\n",
        "    std = np.array([0.215, 0.219, 0.274])[:, None, None]\n",
        "    return (img * 255 - mean) / std\n",
        "\n",
        "def process_depth(depth):\n",
        "    return np.nan_to_num(depth, nan=0.0)\n",
        "\n",
        "def denormalize_for_display(img):\n",
        "    mean = np.array([0.429, 0.488, 0.496])[:, None, None]\n",
        "    std = np.array([0.215, 0.219, 0.274])[:, None, None]\n",
        "    return np.clip((img * std + mean) * 255, 0, 255).astype(np.uint8)\n",
        "\n",
        "results_dir = '/content/drive/MyDrive/Results'\n",
        "mat_files = sorted([f for f in os.listdir(results_dir) if f.endswith('.mat')])\n",
        "\n",
        "for file in mat_files:\n",
        "    file_path = os.path.join(results_dir, file)\n",
        "    data = io.loadmat(file_path)\n",
        "\n",
        "    if 'image' in data and 'pred_depth' in data and 'true_depth' in data:\n",
        "        images = data['image']\n",
        "        pred_depths = process_depth(data['pred_depth'])\n",
        "        true_depths = process_depth(data['true_depth'])\n",
        "\n",
        "        print(f\"File: {file}\")\n",
        "        print(f\"Image shape: {images.shape}\")\n",
        "        print(f\"Predicted depth shape: {pred_depths.shape}\")\n",
        "        print(f\"True depth shape: {true_depths.shape}\")\n",
        "\n",
        "        for i in range(images.shape[0]):  # Iterate over the first dimension (6)\n",
        "            fig, (ax1, ax2, ax3) = plt.subplots(1, 3, figsize=(15, 5))\n",
        "\n",
        "            # Display image\n",
        "            img = images[i]\n",
        "            img_display = denormalize_for_display(img)\n",
        "            ax1.imshow(np.transpose(img_display, (1, 2, 0)))\n",
        "            ax1.set_title(f'Image {i+1}')\n",
        "            ax1.axis('off')\n",
        "\n",
        "            # Display predicted depth\n",
        "            pred_depth = pred_depths[i, 0]\n",
        "            im2 = ax2.imshow(pred_depth, cmap='plasma')\n",
        "            ax2.set_title(f'Predicted Depth {i+1}')\n",
        "            ax2.axis('off')\n",
        "            plt.colorbar(im2, ax=ax2, label='Depth')\n",
        "\n",
        "            # Display true depth\n",
        "            true_depth = true_depths[i, 0]\n",
        "            im3 = ax3.imshow(true_depth, cmap='plasma')\n",
        "            ax3.set_title(f'True Depth {i+1}')\n",
        "            ax3.axis('off')\n",
        "            plt.colorbar(im3, ax=ax3, label='Depth')\n",
        "\n",
        "            plt.suptitle(f'Data from {file} - Set {i+1}')\n",
        "            plt.tight_layout()\n",
        "            plt.show()\n",
        "    else:\n",
        "        print(f\"Required data not found in {file}\")"
      ]
    },
    {
      "cell_type": "markdown",
      "source": [
        "## Train loss graph for each model (full dataset)"
      ],
      "metadata": {
        "id": "G0ZT6MWD-YK2"
      }
    },
    {
      "cell_type": "code",
      "source": [
        "import matplotlib.pyplot as plt\n",
        "\n",
        "# Data for each model\n",
        "epochs = list(range(1, 11))\n",
        "\n",
        "# Train loss values for each model\n",
        "resnet_losses = [0.4064, 0.2551, 0.2021, 0.1632, 0.1377, 0.1251, 0.1046, 0.0986, 0.0889, 0.0817]\n",
        "encoder_decoder_losses = [0.5348, 0.3775, 0.2947, 0.2413, 0.2042, 0.1761, 0.1578, 0.1435, 0.1325, 0.1213]\n",
        "unet_losses = [0.3583, 0.2212, 0.1726, 0.1437, 0.1256, 0.1147, 0.1009, 0.0925, 0.0855, 0.0774]\n",
        "\n",
        "# Plotting\n",
        "plt.figure(figsize=(12, 6))\n",
        "\n",
        "plt.plot(epochs, resnet_losses, marker='o', linestyle='-', color='blue', label='ResNet Transfer Model')\n",
        "plt.plot(epochs, encoder_decoder_losses, marker='o', linestyle='-', color='green', label='Simple Encoder-Decoder Model')\n",
        "plt.plot(epochs, unet_losses, marker='o', linestyle='-', color='red', label='U-Net Model')\n",
        "\n",
        "plt.xlabel('Epoch')\n",
        "plt.ylabel('Train Loss')\n",
        "plt.title('Training Loss Over Epochs for Different Models')\n",
        "plt.grid(True)\n",
        "plt.legend()\n",
        "plt.savefig('train_loss_comparison.png')  # Save the plot as a .png file\n",
        "plt.show()\n"
      ],
      "metadata": {
        "colab": {
          "base_uri": "https://localhost:8080/",
          "height": 552
        },
        "id": "_hzH8L94-Xy6",
        "outputId": "f1a96182-64d8-492b-daef-48c614d40209"
      },
      "execution_count": null,
      "outputs": [
        {
          "output_type": "display_data",
          "data": {
            "text/plain": [
              "<Figure size 1200x600 with 1 Axes>"
            ],
            "image/png": "[encoded data removed]"
          },
          "metadata": {}
        }
      ]
    },
    {
      "cell_type": "markdown",
      "source": [
        "## Loss Effect (do again the plots)"
      ],
      "metadata": {
        "id": "kcBZrkZ6V492"
      }
    },
    {
      "cell_type": "code",
      "source": [
        "import matplotlib.pyplot as plt\n",
        "\n",
        "# Data for training loss\n",
        "smooth_l1_loss = [0.5533, 0.4200, 0.4125, 0.3851, 0.3602, 0.3364, 0.3427, 0.3115, 0.2993, 0.2731]\n",
        "l1_loss = [0.9202, 0.7927, 0.7192, 0.6844, 0.6515, 0.6396, 0.6322, 0.5951, 0.5630, 0.5621]\n",
        "\n",
        "# Epochs\n",
        "epochs = range(1, len(smooth_l1_loss) + 1)\n",
        "\n",
        "# Plotting the training loss\n",
        "plt.figure(figsize=(8, 5), dpi=300)  # High resolution for LaTeX\n",
        "plt.plot(epochs, smooth_l1_loss, 'o-', label='SmoothL1Loss', markersize=5, linewidth=1.5)\n",
        "plt.plot(epochs, l1_loss, 's-', label='L1Loss', markersize=5, linewidth=1.5)\n",
        "\n",
        "# Adjusting font sizes for better readability\n",
        "plt.xlabel('Epochs', fontsize=12)\n",
        "plt.ylabel('Training Loss', fontsize=12)\n",
        "plt.title('UNet - Training Loss Comparison: SmoothL1Loss vs L1Loss', fontsize=14)\n",
        "plt.legend(fontsize=10)\n",
        "plt.grid(True, linestyle='--', linewidth=0.5)\n",
        "\n",
        "# Saving the figure as a high-resolution PNG, suitable for LaTeX\n",
        "plt.savefig('unet_training_loss_comparison.png', bbox_inches='tight', pad_inches=0.05)\n",
        "\n",
        "# Displaying the plot\n",
        "plt.show()\n"
      ],
      "metadata": {
        "id": "I8iqGml3YOUT"
      },
      "execution_count": null,
      "outputs": []
    },
    {
      "cell_type": "code",
      "source": [
        "import matplotlib.pyplot as plt\n",
        "\n",
        "# Data for training loss\n",
        "resnet_smooth_l1_loss = [0.8119, 0.6987, 0.5621, 0.5009, 0.4760, 0.4542, 0.4262, 0.4211, 0.3862, 0.3693]\n",
        "resnet_l1_loss = [0.9898, 0.7908, 0.7554, 0.7398, 0.6959, 0.6766, 0.6465, 0.6387, 0.6215, 0.5903]\n",
        "unet_smooth_l1_loss = [0.5533, 0.4200, 0.4125, 0.3851, 0.3602, 0.3364, 0.3427, 0.3115, 0.2993, 0.2731]\n",
        "unet_l1_loss = [0.9202, 0.7927, 0.7192, 0.6844, 0.6515, 0.6396, 0.6322, 0.5951, 0.5630, 0.5621]\n",
        "\n",
        "# Epochs\n",
        "epochs = range(1, len(resnet_smooth_l1_loss) + 1)\n",
        "\n",
        "# Plotting the training loss\n",
        "plt.figure(figsize=(10, 6), dpi=300)  # Slightly larger figure for better readability\n",
        "\n",
        "plt.plot(epochs, resnet_smooth_l1_loss, 'o-', label='ResNet SmoothL1Loss', markersize=5, linewidth=1.5)\n",
        "plt.plot(epochs, resnet_l1_loss, 's-', label='ResNet L1Loss', markersize=5, linewidth=1.5)\n",
        "plt.plot(epochs, unet_smooth_l1_loss, '^-', label='UNet SmoothL1Loss', markersize=5, linewidth=1.5)\n",
        "plt.plot(epochs, unet_l1_loss, 'D-', label='UNet L1Loss', markersize=5, linewidth=1.5)\n",
        "\n",
        "# Adjusting font sizes for better readability\n",
        "plt.xlabel('Epochs', fontsize=12)\n",
        "plt.ylabel('Training Loss', fontsize=12)\n",
        "plt.title('Training Loss Comparison: ResNet vs UNet, SmoothL1Loss vs L1Loss', fontsize=14)\n",
        "plt.legend(fontsize=10)\n",
        "plt.grid(True, linestyle='--', linewidth=0.5)\n",
        "\n",
        "# Saving the figure as a high-resolution PNG, suitable for LaTeX\n",
        "plt.savefig('combined_training_loss_comparison.png', bbox_inches='tight', pad_inches=0.05)\n",
        "\n",
        "# Displaying the plot\n",
        "plt.show()"
      ],
      "metadata": {
        "id": "cUjmz0nHyIQi"
      },
      "execution_count": null,
      "outputs": []
    },
    {
      "cell_type": "markdown",
      "source": [
        "## SImpleCNN vs Enc- Decoder"
      ],
      "metadata": {
        "id": "lo6TkjdSpmy-"
      }
    },
    {
      "cell_type": "code",
      "source": [
        "import matplotlib.pyplot as plt\n",
        "\n",
        "# Data for training loss\n",
        "encDec_loss = [0.5348, 0.3775, 0.2947, 0.2413, 0.2042,0.1761, 0.1578, 0.1435, 0.1325, 0.1213]\n",
        "resNet_loss = [0.4064, 0.2551, 0.2021, 0.1632, 0.1377,0.1251, 0.1046, 0.0986, 0.0889, 0.0817]\n",
        "\n",
        "# Epochs\n",
        "epochs = range(1, len(encDec_loss) + 1)\n",
        "\n",
        "# Plotting the training loss\n",
        "plt.figure(figsize=(8, 5), dpi=300)  # High resolution for LaTeX\n",
        "plt.plot(epochs, encDec_loss, 'o-', label='Simple feature extractor', markersize=5, linewidth=1.5)\n",
        "plt.plot(epochs, resNet_loss, 's-', label='Pre-trained features extractor', markersize=5, linewidth=1.5)\n",
        "\n",
        "# Adjusting font sizes for better readability\n",
        "plt.xlabel('Epochs', fontsize=12)\n",
        "plt.ylabel('Training Loss', fontsize=12)\n",
        "plt.title('Training Loss Comparison: Transfer Learning Effect', fontsize=14)\n",
        "plt.legend(fontsize=10)\n",
        "plt.grid(True, linestyle='--', linewidth=0.5)\n",
        "\n",
        "# Saving the figure as a high-resolution PNG, suitable for LaTeX\n",
        "plt.savefig('feature extractor comparison.png', bbox_inches='tight', pad_inches=0.05)\n",
        "\n",
        "# Displaying the plot\n",
        "plt.show()"
      ],
      "metadata": {
        "id": "yn64g72Uprk4"
      },
      "execution_count": null,
      "outputs": []
    },
    {
      "cell_type": "markdown",
      "source": [
        "## Data Augmentation Effect"
      ],
      "metadata": {
        "id": "fNrv-vc7jpg_"
      }
    },
    {
      "cell_type": "code",
      "source": [
        "import matplotlib.pyplot as plt\n",
        "\n",
        "# Data\n",
        "epochs = list(range(1, 11))\n",
        "aug_false = [0.8934, 0.5851, 0.5599, 0.5203, 0.5014, 0.4829, 0.4578, 0.4583, 0.4351, 0.4225]\n",
        "aug_true = [0.7113, 0.5840, 0.5577, 0.5282, 0.4978, 0.5004, 0.4714, 0.4576, 0.4457, 0.4209]\n",
        "\n",
        "# Create the plot\n",
        "plt.figure(figsize=(10, 6))\n",
        "plt.plot(epochs, aug_false, label='Augmentation False', marker='o')\n",
        "plt.plot(epochs, aug_true, label='Augmentation True', marker='o')\n",
        "\n",
        "# Customize the plot\n",
        "plt.title('Effect of Data Augmentation on Training Loss')\n",
        "plt.xlabel('Epoch')\n",
        "plt.ylabel('Train Loss')\n",
        "plt.legend()\n",
        "plt.grid(True, linestyle='--', alpha=0.7)\n",
        "\n",
        "# Set y-axis to start from 0\n",
        "plt.ylim(bottom=0)\n",
        "\n",
        "# Show the plot\n",
        "plt.tight_layout()\n",
        "plt.show()"
      ],
      "metadata": {
        "id": "yTwDYasbjsEQ"
      },
      "execution_count": null,
      "outputs": []
    },
    {
      "cell_type": "code",
      "source": [
        "import matplotlib.pyplot as plt\n",
        "\n",
        "# Data for training loss\n",
        "aug_false = [0.8934, 0.5851, 0.5599, 0.5203, 0.5014, 0.4829, 0.4578, 0.4583, 0.4351, 0.4225]\n",
        "aug_true = [0.7113, 0.5840, 0.5577, 0.5282, 0.4978, 0.5004, 0.4714, 0.4576, 0.4457, 0.4209]\n",
        "\n",
        "# Epochs\n",
        "epochs = range(1, len(aug_false) + 1)\n",
        "\n",
        "# Plotting the training loss\n",
        "plt.figure(figsize=(8, 5), dpi=300)  # High resolution for LaTeX\n",
        "plt.plot(epochs, aug_false, 'o-', label='Augmentation False', markersize=5, linewidth=1.5)\n",
        "plt.plot(epochs, aug_true, 's-', label='Augmentation True', markersize=5, linewidth=1.5)\n",
        "\n",
        "# Adjusting font sizes for better readability\n",
        "plt.xlabel('Epochs', fontsize=12)\n",
        "plt.ylabel('Training Loss', fontsize=12)\n",
        "plt.title('Effect of Data Augmentation on Training Loss', fontsize=14)\n",
        "plt.legend(fontsize=10)\n",
        "plt.grid(True, linestyle='--', linewidth=0.5)\n",
        "\n",
        "# Saving the figure as a high-resolution PNG, suitable for LaTeX\n",
        "plt.savefig('data augmentation effect.png', bbox_inches='tight', pad_inches=0.05)\n",
        "\n",
        "# Displaying the plot\n",
        "plt.show()"
      ],
      "metadata": {
        "id": "keK7xkQ7jvUo"
      },
      "execution_count": null,
      "outputs": []
    }
  ],
  "metadata": {
    "accelerator": "GPU",
    "colab": {
      "gpuType": "T4",
      "machine_shape": "hm",
      "provenance": [],
      "toc_visible": true
    },
    "kernelspec": {
      "display_name": "Python 3",
      "name": "python3"
    },
    "language_info": {
      "name": "python"
    }
  },
  "nbformat": 4,
  "nbformat_minor": 0
}